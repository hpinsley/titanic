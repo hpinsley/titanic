{
 "cells": [
  {
   "cell_type": "code",
   "execution_count": 1,
   "metadata": {},
   "outputs": [],
   "source": [
    "import pandas as pd\n",
    "import numpy as np\n",
    "import matplotlib.pyplot as plt"
   ]
  },
  {
   "cell_type": "code",
   "execution_count": 2,
   "metadata": {},
   "outputs": [
    {
     "data": {
      "text/plain": [
       "array([[-1.67694721,  1.05208067,  1.79609291, -0.34297715],\n",
       "       [-1.23891883, -0.57052955,  0.5892619 ,  0.18863589],\n",
       "       [-0.4604274 ,  0.18761847,  0.7233013 , -0.87145243],\n",
       "       [ 0.96025054,  0.42331625, -2.52301526,  0.01608702],\n",
       "       [ 0.75527051, -1.66996062,  0.15581184,  0.2049632 ],\n",
       "       [ 0.11483468, -0.89467492, -0.48523511, -2.50407699]])"
      ]
     },
     "execution_count": 2,
     "metadata": {},
     "output_type": "execute_result"
    }
   ],
   "source": [
    "np.random.randn(6,4)"
   ]
  },
  {
   "cell_type": "code",
   "execution_count": 23,
   "metadata": {},
   "outputs": [
    {
     "data": {
      "text/plain": [
       "a    0.146414\n",
       "b    0.039127\n",
       "c    0.783299\n",
       "d   -0.855858\n",
       "e   -1.086689\n",
       "dtype: float64"
      ]
     },
     "execution_count": 23,
     "metadata": {},
     "output_type": "execute_result"
    }
   ],
   "source": [
    "r = pd.Series(np.random.randn(5), ['a','b','c','d','e'])\n",
    "r"
   ]
  },
  {
   "cell_type": "code",
   "execution_count": 24,
   "metadata": {},
   "outputs": [
    {
     "data": {
      "text/plain": [
       "Index(['a', 'b', 'c', 'd', 'e'], dtype='object')"
      ]
     },
     "execution_count": 24,
     "metadata": {},
     "output_type": "execute_result"
    }
   ],
   "source": [
    "r.index"
   ]
  },
  {
   "cell_type": "code",
   "execution_count": 25,
   "metadata": {},
   "outputs": [
    {
     "data": {
      "text/plain": [
       "0.14641432188636339"
      ]
     },
     "execution_count": 25,
     "metadata": {},
     "output_type": "execute_result"
    }
   ],
   "source": [
    "r[0]"
   ]
  },
  {
   "cell_type": "code",
   "execution_count": 27,
   "metadata": {},
   "outputs": [
    {
     "data": {
      "text/plain": [
       "a     True\n",
       "b     True\n",
       "c     True\n",
       "d    False\n",
       "e    False\n",
       "dtype: bool"
      ]
     },
     "execution_count": 27,
     "metadata": {},
     "output_type": "execute_result"
    }
   ],
   "source": [
    "r > 0"
   ]
  },
  {
   "cell_type": "code",
   "execution_count": 28,
   "metadata": {},
   "outputs": [
    {
     "data": {
      "text/plain": [
       "a    0.146414\n",
       "b    0.039127\n",
       "c    0.783299\n",
       "dtype: float64"
      ]
     },
     "execution_count": 28,
     "metadata": {},
     "output_type": "execute_result"
    }
   ],
   "source": [
    "r[r>0]"
   ]
  },
  {
   "cell_type": "code",
   "execution_count": 33,
   "metadata": {},
   "outputs": [
    {
     "data": {
      "text/plain": [
       "e   -1.086689\n",
       "a    0.146414\n",
       "c    0.783299\n",
       "dtype: float64"
      ]
     },
     "execution_count": 33,
     "metadata": {},
     "output_type": "execute_result"
    }
   ],
   "source": [
    "# Note you pass a list of indexes\n",
    "r[[-1,0,2]]"
   ]
  },
  {
   "cell_type": "code",
   "execution_count": 34,
   "metadata": {},
   "outputs": [
    {
     "data": {
      "text/plain": [
       "a    1.157676\n",
       "b    1.039902\n",
       "c    2.188680\n",
       "d    0.424918\n",
       "e    0.337332\n",
       "dtype: float64"
      ]
     },
     "execution_count": 34,
     "metadata": {},
     "output_type": "execute_result"
    }
   ],
   "source": [
    "np.exp(r)"
   ]
  },
  {
   "cell_type": "code",
   "execution_count": 35,
   "metadata": {},
   "outputs": [
    {
     "data": {
      "text/plain": [
       "pandas.core.series.Series"
      ]
     },
     "execution_count": 35,
     "metadata": {},
     "output_type": "execute_result"
    }
   ],
   "source": [
    "type(np.exp(r))"
   ]
  },
  {
   "cell_type": "code",
   "execution_count": 36,
   "metadata": {},
   "outputs": [
    {
     "data": {
      "text/plain": [
       "0.03912675269100118"
      ]
     },
     "execution_count": 36,
     "metadata": {},
     "output_type": "execute_result"
    }
   ],
   "source": [
    "# A Series is like a fixed-size dict in that you can get and set values by index label:\n",
    "r['b']"
   ]
  },
  {
   "cell_type": "code",
   "execution_count": 37,
   "metadata": {},
   "outputs": [
    {
     "data": {
      "text/plain": [
       "0.03912675269100118"
      ]
     },
     "execution_count": 37,
     "metadata": {},
     "output_type": "execute_result"
    }
   ],
   "source": [
    "r.b"
   ]
  },
  {
   "cell_type": "code",
   "execution_count": 39,
   "metadata": {},
   "outputs": [
    {
     "data": {
      "text/plain": [
       "True"
      ]
     },
     "execution_count": 39,
     "metadata": {},
     "output_type": "execute_result"
    }
   ],
   "source": [
    "'b' in r"
   ]
  },
  {
   "cell_type": "code",
   "execution_count": 40,
   "metadata": {},
   "outputs": [
    {
     "data": {
      "text/plain": [
       "Index(['a', 'b', 'c', 'd', 'e'], dtype='object')"
      ]
     },
     "execution_count": 40,
     "metadata": {},
     "output_type": "execute_result"
    }
   ],
   "source": [
    "r.keys()"
   ]
  },
  {
   "cell_type": "code",
   "execution_count": 41,
   "metadata": {},
   "outputs": [
    {
     "data": {
      "text/plain": [
       "a    0.292829\n",
       "b    0.078254\n",
       "c    1.566597\n",
       "d   -1.711716\n",
       "e   -2.173378\n",
       "dtype: float64"
      ]
     },
     "execution_count": 41,
     "metadata": {},
     "output_type": "execute_result"
    }
   ],
   "source": [
    "# Vectorized operations and label alignment with Series\n",
    "# When working with raw NumPy arrays, looping through value-by-value is usually not necessary. The same is true when working with Series in pandas. Series can also be passed into most NumPy methods expecting an ndarray.\n",
    "r + r"
   ]
  },
  {
   "cell_type": "code",
   "execution_count": 43,
   "metadata": {},
   "outputs": [
    {
     "data": {
      "text/plain": [
       "a    0.585657\n",
       "b    0.156507\n",
       "c    3.133195\n",
       "d   -3.423432\n",
       "e   -4.346755\n",
       "dtype: float64"
      ]
     },
     "execution_count": 43,
     "metadata": {},
     "output_type": "execute_result"
    }
   ],
   "source": [
    "r * 4"
   ]
  },
  {
   "cell_type": "code",
   "execution_count": 45,
   "metadata": {},
   "outputs": [
    {
     "data": {
      "text/plain": [
       "a    0.021437\n",
       "b    0.001531\n",
       "c    0.613557\n",
       "d    0.732493\n",
       "e    1.180893\n",
       "dtype: float64"
      ]
     },
     "execution_count": 45,
     "metadata": {},
     "output_type": "execute_result"
    }
   ],
   "source": [
    "r**2"
   ]
  },
  {
   "cell_type": "markdown",
   "metadata": {},
   "source": [
    "### A key difference between Series and ndarray is that operations between Series automatically align the data based on label. Thus, you can write computations without giving consideration to whether the Series involved have the same labels.\n",
    "The result of an operation between unaligned Series will have the union of the indexes involved. If a label is not found in one Series or the other, the result will be marked as missing NaN. Being able to write code without doing any explicit data alignment grants immense freedom and flexibility in interactive data analysis and research. The integrated data alignment features of the pandas data structures set pandas apart from the majority of related tools for working with labeled data."
   ]
  },
  {
   "cell_type": "code",
   "execution_count": 49,
   "metadata": {},
   "outputs": [
    {
     "data": {
      "text/plain": [
       "b    0.039127\n",
       "c    0.783299\n",
       "d   -0.855858\n",
       "e   -1.086689\n",
       "dtype: float64"
      ]
     },
     "execution_count": 49,
     "metadata": {},
     "output_type": "execute_result"
    }
   ],
   "source": [
    "r[1:]"
   ]
  },
  {
   "cell_type": "code",
   "execution_count": 50,
   "metadata": {},
   "outputs": [
    {
     "data": {
      "text/plain": [
       "a    0.146414\n",
       "b    0.039127\n",
       "c    0.783299\n",
       "d   -0.855858\n",
       "dtype: float64"
      ]
     },
     "execution_count": 50,
     "metadata": {},
     "output_type": "execute_result"
    }
   ],
   "source": [
    "r[:-1]"
   ]
  },
  {
   "cell_type": "code",
   "execution_count": 51,
   "metadata": {},
   "outputs": [
    {
     "data": {
      "text/plain": [
       "a         NaN\n",
       "b    0.078254\n",
       "c    1.566597\n",
       "d   -1.711716\n",
       "e         NaN\n",
       "dtype: float64"
      ]
     },
     "execution_count": 51,
     "metadata": {},
     "output_type": "execute_result"
    }
   ],
   "source": [
    "r[1:] + r[:-1]"
   ]
  },
  {
   "cell_type": "markdown",
   "metadata": {},
   "source": [
    "You can name a series"
   ]
  },
  {
   "cell_type": "code",
   "execution_count": 52,
   "metadata": {},
   "outputs": [
    {
     "data": {
      "text/plain": [
       "0   -1.769128\n",
       "1   -0.234699\n",
       "2   -0.001444\n",
       "3   -2.093658\n",
       "4   -0.535883\n",
       "Name: something, dtype: float64"
      ]
     },
     "execution_count": 52,
     "metadata": {},
     "output_type": "execute_result"
    }
   ],
   "source": [
    "s = pd.Series(np.random.randn(5), name='something')\n",
    "s"
   ]
  },
  {
   "cell_type": "markdown",
   "metadata": {},
   "source": [
    "### Series from a Dictionary"
   ]
  },
  {
   "cell_type": "code",
   "execution_count": 22,
   "metadata": {},
   "outputs": [
    {
     "data": {
      "text/plain": [
       "a    1.00\n",
       "b    2.00\n",
       "c    3.14\n",
       "dtype: float64"
      ]
     },
     "execution_count": 22,
     "metadata": {},
     "output_type": "execute_result"
    }
   ],
   "source": [
    "pd.Series({'a': 1, 'b': 2, 'c': 3.14})"
   ]
  },
  {
   "cell_type": "markdown",
   "metadata": {},
   "source": [
    "# DataFrame\n",
    "## DataFrame is a 2-dimensional labeled data structure with columns of potentially different types. You can think of it like a spreadsheet or SQL table, or a dict of Series objects\n",
    "\n",
    "https://pandas.pydata.org/pandas-docs/stable/dsintro.html#dsintro"
   ]
  },
  {
   "cell_type": "code",
   "execution_count": 54,
   "metadata": {
    "scrolled": true
   },
   "outputs": [
    {
     "data": {
      "text/html": [
       "<div>\n",
       "<style scoped>\n",
       "    .dataframe tbody tr th:only-of-type {\n",
       "        vertical-align: middle;\n",
       "    }\n",
       "\n",
       "    .dataframe tbody tr th {\n",
       "        vertical-align: top;\n",
       "    }\n",
       "\n",
       "    .dataframe thead th {\n",
       "        text-align: right;\n",
       "    }\n",
       "</style>\n",
       "<table border=\"1\" class=\"dataframe\">\n",
       "  <thead>\n",
       "    <tr style=\"text-align: right;\">\n",
       "      <th></th>\n",
       "      <th>col1</th>\n",
       "      <th>col2</th>\n",
       "    </tr>\n",
       "  </thead>\n",
       "  <tbody>\n",
       "    <tr>\n",
       "      <th>a</th>\n",
       "      <td>-0.833271</td>\n",
       "      <td>-1.105004</td>\n",
       "    </tr>\n",
       "    <tr>\n",
       "      <th>b</th>\n",
       "      <td>-1.069055</td>\n",
       "      <td>1.347315</td>\n",
       "    </tr>\n",
       "    <tr>\n",
       "      <th>c</th>\n",
       "      <td>0.052157</td>\n",
       "      <td>0.756602</td>\n",
       "    </tr>\n",
       "    <tr>\n",
       "      <th>d</th>\n",
       "      <td>-2.062789</td>\n",
       "      <td>-0.082383</td>\n",
       "    </tr>\n",
       "    <tr>\n",
       "      <th>e</th>\n",
       "      <td>-1.628761</td>\n",
       "      <td>0.669959</td>\n",
       "    </tr>\n",
       "  </tbody>\n",
       "</table>\n",
       "</div>"
      ],
      "text/plain": [
       "       col1      col2\n",
       "a -0.833271 -1.105004\n",
       "b -1.069055  1.347315\n",
       "c  0.052157  0.756602\n",
       "d -2.062789 -0.082383\n",
       "e -1.628761  0.669959"
      ]
     },
     "execution_count": 54,
     "metadata": {},
     "output_type": "execute_result"
    }
   ],
   "source": [
    "pd.DataFrame(np.random.randn(5,2), ['a','b','c','d','e'], ['col1','col2'])"
   ]
  },
  {
   "cell_type": "code",
   "execution_count": 57,
   "metadata": {},
   "outputs": [
    {
     "data": {
      "text/plain": [
       "{'one': a    1.0\n",
       " b    2.0\n",
       " c    3.0\n",
       " dtype: float64, 'two': a    1.0\n",
       " b    2.0\n",
       " c    3.0\n",
       " d    4.0\n",
       " dtype: float64}"
      ]
     },
     "execution_count": 57,
     "metadata": {},
     "output_type": "execute_result"
    }
   ],
   "source": [
    "d = {'one' : pd.Series([1., 2., 3.], index=['a', 'b', 'c']),\n",
    "     'two' : pd.Series([1., 2., 3., 4.], index=['a', 'b', 'c', 'd'])}\n",
    "d"
   ]
  },
  {
   "cell_type": "code",
   "execution_count": 59,
   "metadata": {},
   "outputs": [
    {
     "data": {
      "text/html": [
       "<div>\n",
       "<style scoped>\n",
       "    .dataframe tbody tr th:only-of-type {\n",
       "        vertical-align: middle;\n",
       "    }\n",
       "\n",
       "    .dataframe tbody tr th {\n",
       "        vertical-align: top;\n",
       "    }\n",
       "\n",
       "    .dataframe thead th {\n",
       "        text-align: right;\n",
       "    }\n",
       "</style>\n",
       "<table border=\"1\" class=\"dataframe\">\n",
       "  <thead>\n",
       "    <tr style=\"text-align: right;\">\n",
       "      <th></th>\n",
       "      <th>one</th>\n",
       "      <th>two</th>\n",
       "    </tr>\n",
       "  </thead>\n",
       "  <tbody>\n",
       "    <tr>\n",
       "      <th>a</th>\n",
       "      <td>1.0</td>\n",
       "      <td>1.0</td>\n",
       "    </tr>\n",
       "    <tr>\n",
       "      <th>b</th>\n",
       "      <td>2.0</td>\n",
       "      <td>2.0</td>\n",
       "    </tr>\n",
       "    <tr>\n",
       "      <th>c</th>\n",
       "      <td>3.0</td>\n",
       "      <td>3.0</td>\n",
       "    </tr>\n",
       "    <tr>\n",
       "      <th>d</th>\n",
       "      <td>NaN</td>\n",
       "      <td>4.0</td>\n",
       "    </tr>\n",
       "  </tbody>\n",
       "</table>\n",
       "</div>"
      ],
      "text/plain": [
       "   one  two\n",
       "a  1.0  1.0\n",
       "b  2.0  2.0\n",
       "c  3.0  3.0\n",
       "d  NaN  4.0"
      ]
     },
     "execution_count": 59,
     "metadata": {},
     "output_type": "execute_result"
    }
   ],
   "source": [
    "df = pd.DataFrame(d)\n",
    "df"
   ]
  },
  {
   "cell_type": "code",
   "execution_count": 62,
   "metadata": {},
   "outputs": [
    {
     "data": {
      "text/plain": [
       "Index(['a', 'b', 'c', 'd'], dtype='object')"
      ]
     },
     "execution_count": 62,
     "metadata": {},
     "output_type": "execute_result"
    }
   ],
   "source": [
    "# The row and column labels can be accessed respectively by accessing the index and columns attributes:\n",
    "df.index"
   ]
  },
  {
   "cell_type": "code",
   "execution_count": 63,
   "metadata": {},
   "outputs": [
    {
     "data": {
      "text/plain": [
       "Index(['one', 'two'], dtype='object')"
      ]
     },
     "execution_count": 63,
     "metadata": {},
     "output_type": "execute_result"
    }
   ],
   "source": [
    "df.columns"
   ]
  },
  {
   "cell_type": "code",
   "execution_count": 65,
   "metadata": {},
   "outputs": [
    {
     "data": {
      "text/plain": [
       "2.0"
      ]
     },
     "execution_count": 65,
     "metadata": {},
     "output_type": "execute_result"
    }
   ],
   "source": [
    "df.loc['b','two']"
   ]
  },
  {
   "cell_type": "markdown",
   "metadata": {},
   "source": [
    "### You can treat a DataFrame semantically like a dict of like-indexed Series objects. Getting, setting, and deleting columns works with the same syntax as the analogous dict operations:"
   ]
  },
  {
   "cell_type": "code",
   "execution_count": 70,
   "metadata": {},
   "outputs": [
    {
     "data": {
      "text/html": [
       "<div>\n",
       "<style scoped>\n",
       "    .dataframe tbody tr th:only-of-type {\n",
       "        vertical-align: middle;\n",
       "    }\n",
       "\n",
       "    .dataframe tbody tr th {\n",
       "        vertical-align: top;\n",
       "    }\n",
       "\n",
       "    .dataframe thead th {\n",
       "        text-align: right;\n",
       "    }\n",
       "</style>\n",
       "<table border=\"1\" class=\"dataframe\">\n",
       "  <thead>\n",
       "    <tr style=\"text-align: right;\">\n",
       "      <th></th>\n",
       "      <th>one</th>\n",
       "      <th>two</th>\n",
       "    </tr>\n",
       "  </thead>\n",
       "  <tbody>\n",
       "    <tr>\n",
       "      <th>a</th>\n",
       "      <td>1.0</td>\n",
       "      <td>1.0</td>\n",
       "    </tr>\n",
       "    <tr>\n",
       "      <th>b</th>\n",
       "      <td>2.0</td>\n",
       "      <td>2.0</td>\n",
       "    </tr>\n",
       "    <tr>\n",
       "      <th>c</th>\n",
       "      <td>3.0</td>\n",
       "      <td>3.0</td>\n",
       "    </tr>\n",
       "    <tr>\n",
       "      <th>d</th>\n",
       "      <td>NaN</td>\n",
       "      <td>4.0</td>\n",
       "    </tr>\n",
       "  </tbody>\n",
       "</table>\n",
       "</div>"
      ],
      "text/plain": [
       "   one  two\n",
       "a  1.0  1.0\n",
       "b  2.0  2.0\n",
       "c  3.0  3.0\n",
       "d  NaN  4.0"
      ]
     },
     "execution_count": 70,
     "metadata": {},
     "output_type": "execute_result"
    }
   ],
   "source": [
    "df"
   ]
  },
  {
   "cell_type": "code",
   "execution_count": 71,
   "metadata": {},
   "outputs": [
    {
     "data": {
      "text/plain": [
       "a    1.0\n",
       "b    2.0\n",
       "c    3.0\n",
       "d    NaN\n",
       "Name: one, dtype: float64"
      ]
     },
     "execution_count": 71,
     "metadata": {},
     "output_type": "execute_result"
    }
   ],
   "source": [
    "df['one']"
   ]
  },
  {
   "cell_type": "code",
   "execution_count": 72,
   "metadata": {},
   "outputs": [
    {
     "data": {
      "text/plain": [
       "pandas.core.series.Series"
      ]
     },
     "execution_count": 72,
     "metadata": {},
     "output_type": "execute_result"
    }
   ],
   "source": [
    "type(df['one'])"
   ]
  },
  {
   "cell_type": "code",
   "execution_count": 73,
   "metadata": {},
   "outputs": [
    {
     "data": {
      "text/plain": [
       "3.0"
      ]
     },
     "execution_count": 73,
     "metadata": {},
     "output_type": "execute_result"
    }
   ],
   "source": [
    "df['one']['c']"
   ]
  },
  {
   "cell_type": "code",
   "execution_count": 75,
   "metadata": {},
   "outputs": [
    {
     "data": {
      "text/plain": [
       "3.0"
      ]
     },
     "execution_count": 75,
     "metadata": {},
     "output_type": "execute_result"
    }
   ],
   "source": [
    "df.loc['c','one']"
   ]
  },
  {
   "cell_type": "code",
   "execution_count": 76,
   "metadata": {},
   "outputs": [
    {
     "data": {
      "text/html": [
       "<div>\n",
       "<style scoped>\n",
       "    .dataframe tbody tr th:only-of-type {\n",
       "        vertical-align: middle;\n",
       "    }\n",
       "\n",
       "    .dataframe tbody tr th {\n",
       "        vertical-align: top;\n",
       "    }\n",
       "\n",
       "    .dataframe thead th {\n",
       "        text-align: right;\n",
       "    }\n",
       "</style>\n",
       "<table border=\"1\" class=\"dataframe\">\n",
       "  <thead>\n",
       "    <tr style=\"text-align: right;\">\n",
       "      <th></th>\n",
       "      <th>one</th>\n",
       "      <th>two</th>\n",
       "    </tr>\n",
       "  </thead>\n",
       "  <tbody>\n",
       "    <tr>\n",
       "      <th>a</th>\n",
       "      <td>1.0</td>\n",
       "      <td>1.0</td>\n",
       "    </tr>\n",
       "    <tr>\n",
       "      <th>b</th>\n",
       "      <td>2.0</td>\n",
       "      <td>2.0</td>\n",
       "    </tr>\n",
       "    <tr>\n",
       "      <th>c</th>\n",
       "      <td>3.0</td>\n",
       "      <td>3.0</td>\n",
       "    </tr>\n",
       "    <tr>\n",
       "      <th>d</th>\n",
       "      <td>NaN</td>\n",
       "      <td>4.0</td>\n",
       "    </tr>\n",
       "  </tbody>\n",
       "</table>\n",
       "</div>"
      ],
      "text/plain": [
       "   one  two\n",
       "a  1.0  1.0\n",
       "b  2.0  2.0\n",
       "c  3.0  3.0\n",
       "d  NaN  4.0"
      ]
     },
     "execution_count": 76,
     "metadata": {},
     "output_type": "execute_result"
    }
   ],
   "source": [
    "df"
   ]
  },
  {
   "cell_type": "code",
   "execution_count": 77,
   "metadata": {},
   "outputs": [],
   "source": [
    "df['three'] = df['one'] + df['two']"
   ]
  },
  {
   "cell_type": "code",
   "execution_count": 78,
   "metadata": {},
   "outputs": [
    {
     "data": {
      "text/html": [
       "<div>\n",
       "<style scoped>\n",
       "    .dataframe tbody tr th:only-of-type {\n",
       "        vertical-align: middle;\n",
       "    }\n",
       "\n",
       "    .dataframe tbody tr th {\n",
       "        vertical-align: top;\n",
       "    }\n",
       "\n",
       "    .dataframe thead th {\n",
       "        text-align: right;\n",
       "    }\n",
       "</style>\n",
       "<table border=\"1\" class=\"dataframe\">\n",
       "  <thead>\n",
       "    <tr style=\"text-align: right;\">\n",
       "      <th></th>\n",
       "      <th>one</th>\n",
       "      <th>two</th>\n",
       "      <th>three</th>\n",
       "    </tr>\n",
       "  </thead>\n",
       "  <tbody>\n",
       "    <tr>\n",
       "      <th>a</th>\n",
       "      <td>1.0</td>\n",
       "      <td>1.0</td>\n",
       "      <td>2.0</td>\n",
       "    </tr>\n",
       "    <tr>\n",
       "      <th>b</th>\n",
       "      <td>2.0</td>\n",
       "      <td>2.0</td>\n",
       "      <td>4.0</td>\n",
       "    </tr>\n",
       "    <tr>\n",
       "      <th>c</th>\n",
       "      <td>3.0</td>\n",
       "      <td>3.0</td>\n",
       "      <td>6.0</td>\n",
       "    </tr>\n",
       "    <tr>\n",
       "      <th>d</th>\n",
       "      <td>NaN</td>\n",
       "      <td>4.0</td>\n",
       "      <td>NaN</td>\n",
       "    </tr>\n",
       "  </tbody>\n",
       "</table>\n",
       "</div>"
      ],
      "text/plain": [
       "   one  two  three\n",
       "a  1.0  1.0    2.0\n",
       "b  2.0  2.0    4.0\n",
       "c  3.0  3.0    6.0\n",
       "d  NaN  4.0    NaN"
      ]
     },
     "execution_count": 78,
     "metadata": {},
     "output_type": "execute_result"
    }
   ],
   "source": [
    "df"
   ]
  },
  {
   "cell_type": "code",
   "execution_count": 79,
   "metadata": {},
   "outputs": [],
   "source": [
    "df['flag'] = df['one'] > 2"
   ]
  },
  {
   "cell_type": "code",
   "execution_count": 80,
   "metadata": {},
   "outputs": [
    {
     "data": {
      "text/html": [
       "<div>\n",
       "<style scoped>\n",
       "    .dataframe tbody tr th:only-of-type {\n",
       "        vertical-align: middle;\n",
       "    }\n",
       "\n",
       "    .dataframe tbody tr th {\n",
       "        vertical-align: top;\n",
       "    }\n",
       "\n",
       "    .dataframe thead th {\n",
       "        text-align: right;\n",
       "    }\n",
       "</style>\n",
       "<table border=\"1\" class=\"dataframe\">\n",
       "  <thead>\n",
       "    <tr style=\"text-align: right;\">\n",
       "      <th></th>\n",
       "      <th>one</th>\n",
       "      <th>two</th>\n",
       "      <th>three</th>\n",
       "      <th>flag</th>\n",
       "    </tr>\n",
       "  </thead>\n",
       "  <tbody>\n",
       "    <tr>\n",
       "      <th>a</th>\n",
       "      <td>1.0</td>\n",
       "      <td>1.0</td>\n",
       "      <td>2.0</td>\n",
       "      <td>False</td>\n",
       "    </tr>\n",
       "    <tr>\n",
       "      <th>b</th>\n",
       "      <td>2.0</td>\n",
       "      <td>2.0</td>\n",
       "      <td>4.0</td>\n",
       "      <td>False</td>\n",
       "    </tr>\n",
       "    <tr>\n",
       "      <th>c</th>\n",
       "      <td>3.0</td>\n",
       "      <td>3.0</td>\n",
       "      <td>6.0</td>\n",
       "      <td>True</td>\n",
       "    </tr>\n",
       "    <tr>\n",
       "      <th>d</th>\n",
       "      <td>NaN</td>\n",
       "      <td>4.0</td>\n",
       "      <td>NaN</td>\n",
       "      <td>False</td>\n",
       "    </tr>\n",
       "  </tbody>\n",
       "</table>\n",
       "</div>"
      ],
      "text/plain": [
       "   one  two  three   flag\n",
       "a  1.0  1.0    2.0  False\n",
       "b  2.0  2.0    4.0  False\n",
       "c  3.0  3.0    6.0   True\n",
       "d  NaN  4.0    NaN  False"
      ]
     },
     "execution_count": 80,
     "metadata": {},
     "output_type": "execute_result"
    }
   ],
   "source": [
    "df"
   ]
  },
  {
   "cell_type": "code",
   "execution_count": 83,
   "metadata": {},
   "outputs": [],
   "source": [
    "new_df = df.assign(newcol = df['two'] + df['three'])"
   ]
  },
  {
   "cell_type": "code",
   "execution_count": 84,
   "metadata": {},
   "outputs": [
    {
     "data": {
      "text/html": [
       "<div>\n",
       "<style scoped>\n",
       "    .dataframe tbody tr th:only-of-type {\n",
       "        vertical-align: middle;\n",
       "    }\n",
       "\n",
       "    .dataframe tbody tr th {\n",
       "        vertical-align: top;\n",
       "    }\n",
       "\n",
       "    .dataframe thead th {\n",
       "        text-align: right;\n",
       "    }\n",
       "</style>\n",
       "<table border=\"1\" class=\"dataframe\">\n",
       "  <thead>\n",
       "    <tr style=\"text-align: right;\">\n",
       "      <th></th>\n",
       "      <th>one</th>\n",
       "      <th>two</th>\n",
       "      <th>three</th>\n",
       "      <th>flag</th>\n",
       "    </tr>\n",
       "  </thead>\n",
       "  <tbody>\n",
       "    <tr>\n",
       "      <th>a</th>\n",
       "      <td>1.0</td>\n",
       "      <td>1.0</td>\n",
       "      <td>2.0</td>\n",
       "      <td>False</td>\n",
       "    </tr>\n",
       "    <tr>\n",
       "      <th>b</th>\n",
       "      <td>2.0</td>\n",
       "      <td>2.0</td>\n",
       "      <td>4.0</td>\n",
       "      <td>False</td>\n",
       "    </tr>\n",
       "    <tr>\n",
       "      <th>c</th>\n",
       "      <td>3.0</td>\n",
       "      <td>3.0</td>\n",
       "      <td>6.0</td>\n",
       "      <td>True</td>\n",
       "    </tr>\n",
       "    <tr>\n",
       "      <th>d</th>\n",
       "      <td>NaN</td>\n",
       "      <td>4.0</td>\n",
       "      <td>NaN</td>\n",
       "      <td>False</td>\n",
       "    </tr>\n",
       "  </tbody>\n",
       "</table>\n",
       "</div>"
      ],
      "text/plain": [
       "   one  two  three   flag\n",
       "a  1.0  1.0    2.0  False\n",
       "b  2.0  2.0    4.0  False\n",
       "c  3.0  3.0    6.0   True\n",
       "d  NaN  4.0    NaN  False"
      ]
     },
     "execution_count": 84,
     "metadata": {},
     "output_type": "execute_result"
    }
   ],
   "source": [
    "df"
   ]
  },
  {
   "cell_type": "code",
   "execution_count": 85,
   "metadata": {},
   "outputs": [
    {
     "data": {
      "text/html": [
       "<div>\n",
       "<style scoped>\n",
       "    .dataframe tbody tr th:only-of-type {\n",
       "        vertical-align: middle;\n",
       "    }\n",
       "\n",
       "    .dataframe tbody tr th {\n",
       "        vertical-align: top;\n",
       "    }\n",
       "\n",
       "    .dataframe thead th {\n",
       "        text-align: right;\n",
       "    }\n",
       "</style>\n",
       "<table border=\"1\" class=\"dataframe\">\n",
       "  <thead>\n",
       "    <tr style=\"text-align: right;\">\n",
       "      <th></th>\n",
       "      <th>one</th>\n",
       "      <th>two</th>\n",
       "      <th>three</th>\n",
       "      <th>flag</th>\n",
       "      <th>newcol</th>\n",
       "    </tr>\n",
       "  </thead>\n",
       "  <tbody>\n",
       "    <tr>\n",
       "      <th>a</th>\n",
       "      <td>1.0</td>\n",
       "      <td>1.0</td>\n",
       "      <td>2.0</td>\n",
       "      <td>False</td>\n",
       "      <td>3.0</td>\n",
       "    </tr>\n",
       "    <tr>\n",
       "      <th>b</th>\n",
       "      <td>2.0</td>\n",
       "      <td>2.0</td>\n",
       "      <td>4.0</td>\n",
       "      <td>False</td>\n",
       "      <td>6.0</td>\n",
       "    </tr>\n",
       "    <tr>\n",
       "      <th>c</th>\n",
       "      <td>3.0</td>\n",
       "      <td>3.0</td>\n",
       "      <td>6.0</td>\n",
       "      <td>True</td>\n",
       "      <td>9.0</td>\n",
       "    </tr>\n",
       "    <tr>\n",
       "      <th>d</th>\n",
       "      <td>NaN</td>\n",
       "      <td>4.0</td>\n",
       "      <td>NaN</td>\n",
       "      <td>False</td>\n",
       "      <td>NaN</td>\n",
       "    </tr>\n",
       "  </tbody>\n",
       "</table>\n",
       "</div>"
      ],
      "text/plain": [
       "   one  two  three   flag  newcol\n",
       "a  1.0  1.0    2.0  False     3.0\n",
       "b  2.0  2.0    4.0  False     6.0\n",
       "c  3.0  3.0    6.0   True     9.0\n",
       "d  NaN  4.0    NaN  False     NaN"
      ]
     },
     "execution_count": 85,
     "metadata": {},
     "output_type": "execute_result"
    }
   ],
   "source": [
    "new_df"
   ]
  },
  {
   "cell_type": "markdown",
   "metadata": {},
   "source": [
    "### assign does not modify the dataframe but creates a new one.  You can chain operations too.  If you pass a callable (e.g. lambda), you can refer to the dataframe by the single argument."
   ]
  },
  {
   "cell_type": "code",
   "execution_count": 86,
   "metadata": {},
   "outputs": [
    {
     "data": {
      "text/html": [
       "<div>\n",
       "<style scoped>\n",
       "    .dataframe tbody tr th:only-of-type {\n",
       "        vertical-align: middle;\n",
       "    }\n",
       "\n",
       "    .dataframe tbody tr th {\n",
       "        vertical-align: top;\n",
       "    }\n",
       "\n",
       "    .dataframe thead th {\n",
       "        text-align: right;\n",
       "    }\n",
       "</style>\n",
       "<table border=\"1\" class=\"dataframe\">\n",
       "  <thead>\n",
       "    <tr style=\"text-align: right;\">\n",
       "      <th></th>\n",
       "      <th>one</th>\n",
       "      <th>two</th>\n",
       "      <th>three</th>\n",
       "      <th>flag</th>\n",
       "      <th>newcol</th>\n",
       "      <th>doublenew</th>\n",
       "    </tr>\n",
       "  </thead>\n",
       "  <tbody>\n",
       "    <tr>\n",
       "      <th>a</th>\n",
       "      <td>1.0</td>\n",
       "      <td>1.0</td>\n",
       "      <td>2.0</td>\n",
       "      <td>False</td>\n",
       "      <td>3.0</td>\n",
       "      <td>6.0</td>\n",
       "    </tr>\n",
       "    <tr>\n",
       "      <th>b</th>\n",
       "      <td>2.0</td>\n",
       "      <td>2.0</td>\n",
       "      <td>4.0</td>\n",
       "      <td>False</td>\n",
       "      <td>6.0</td>\n",
       "      <td>12.0</td>\n",
       "    </tr>\n",
       "    <tr>\n",
       "      <th>c</th>\n",
       "      <td>3.0</td>\n",
       "      <td>3.0</td>\n",
       "      <td>6.0</td>\n",
       "      <td>True</td>\n",
       "      <td>9.0</td>\n",
       "      <td>18.0</td>\n",
       "    </tr>\n",
       "    <tr>\n",
       "      <th>d</th>\n",
       "      <td>NaN</td>\n",
       "      <td>4.0</td>\n",
       "      <td>NaN</td>\n",
       "      <td>False</td>\n",
       "      <td>NaN</td>\n",
       "      <td>NaN</td>\n",
       "    </tr>\n",
       "  </tbody>\n",
       "</table>\n",
       "</div>"
      ],
      "text/plain": [
       "   one  two  three   flag  newcol  doublenew\n",
       "a  1.0  1.0    2.0  False     3.0        6.0\n",
       "b  2.0  2.0    4.0  False     6.0       12.0\n",
       "c  3.0  3.0    6.0   True     9.0       18.0\n",
       "d  NaN  4.0    NaN  False     NaN        NaN"
      ]
     },
     "execution_count": 86,
     "metadata": {},
     "output_type": "execute_result"
    }
   ],
   "source": [
    "df.assign(newcol = df['two'] + df['three']).assign(doublenew = lambda d: d['newcol'] * 2)"
   ]
  },
  {
   "cell_type": "code",
   "execution_count": 90,
   "metadata": {},
   "outputs": [
    {
     "name": "stdout",
     "output_type": "stream",
     "text": [
      "Help on function assign in module pandas.core.frame:\n",
      "\n",
      "assign(self, **kwargs)\n",
      "    Assign new columns to a DataFrame, returning a new object\n",
      "    (a copy) with the new columns added to the original ones.\n",
      "    Existing columns that are re-assigned will be overwritten.\n",
      "    \n",
      "    Parameters\n",
      "    ----------\n",
      "    kwargs : keyword, value pairs\n",
      "        keywords are the column names. If the values are\n",
      "        callable, they are computed on the DataFrame and\n",
      "        assigned to the new columns. The callable must not\n",
      "        change input DataFrame (though pandas doesn't check it).\n",
      "        If the values are not callable, (e.g. a Series, scalar, or array),\n",
      "        they are simply assigned.\n",
      "    \n",
      "    Returns\n",
      "    -------\n",
      "    df : DataFrame\n",
      "        A new DataFrame with the new columns in addition to\n",
      "        all the existing columns.\n",
      "    \n",
      "    Notes\n",
      "    -----\n",
      "    Assigning multiple columns within the same ``assign`` is possible.\n",
      "    For Python 3.6 and above, later items in '\\*\\*kwargs' may refer to\n",
      "    newly created or modified columns in 'df'; items are computed and\n",
      "    assigned into 'df' in order.  For Python 3.5 and below, the order of\n",
      "    keyword arguments is not specified, you cannot refer to newly created\n",
      "    or modified columns. All items are computed first, and then assigned\n",
      "    in alphabetical order.\n",
      "    \n",
      "    .. versionchanged :: 0.23.0\n",
      "    \n",
      "        Keyword argument order is maintained for Python 3.6 and later.\n",
      "    \n",
      "    Examples\n",
      "    --------\n",
      "    >>> df = pd.DataFrame({'A': range(1, 11), 'B': np.random.randn(10)})\n",
      "    \n",
      "    Where the value is a callable, evaluated on `df`:\n",
      "    \n",
      "    >>> df.assign(ln_A = lambda x: np.log(x.A))\n",
      "        A         B      ln_A\n",
      "    0   1  0.426905  0.000000\n",
      "    1   2 -0.780949  0.693147\n",
      "    2   3 -0.418711  1.098612\n",
      "    3   4 -0.269708  1.386294\n",
      "    4   5 -0.274002  1.609438\n",
      "    5   6 -0.500792  1.791759\n",
      "    6   7  1.649697  1.945910\n",
      "    7   8 -1.495604  2.079442\n",
      "    8   9  0.549296  2.197225\n",
      "    9  10 -0.758542  2.302585\n",
      "    \n",
      "    Where the value already exists and is inserted:\n",
      "    \n",
      "    >>> newcol = np.log(df['A'])\n",
      "    >>> df.assign(ln_A=newcol)\n",
      "        A         B      ln_A\n",
      "    0   1  0.426905  0.000000\n",
      "    1   2 -0.780949  0.693147\n",
      "    2   3 -0.418711  1.098612\n",
      "    3   4 -0.269708  1.386294\n",
      "    4   5 -0.274002  1.609438\n",
      "    5   6 -0.500792  1.791759\n",
      "    6   7  1.649697  1.945910\n",
      "    7   8 -1.495604  2.079442\n",
      "    8   9  0.549296  2.197225\n",
      "    9  10 -0.758542  2.302585\n",
      "    \n",
      "    Where the keyword arguments depend on each other\n",
      "    \n",
      "    >>> df = pd.DataFrame({'A': [1, 2, 3]})\n",
      "    \n",
      "    >>> df.assign(B=df.A, C=lambda x:x['A']+ x['B'])\n",
      "        A  B  C\n",
      "     0  1  1  2\n",
      "     1  2  2  4\n",
      "     2  3  3  6\n",
      "\n"
     ]
    }
   ],
   "source": [
    "help(pd.DataFrame.assign)"
   ]
  },
  {
   "attachments": {
    "image.png": {
     "image/png": "[encoded data removed]"
    }
   },
   "cell_type": "markdown",
   "metadata": {},
   "source": [
    "![image.png](attachment:image.png)"
   ]
  },
  {
   "cell_type": "code",
   "execution_count": 91,
   "metadata": {},
   "outputs": [
    {
     "data": {
      "text/html": [
       "<div>\n",
       "<style scoped>\n",
       "    .dataframe tbody tr th:only-of-type {\n",
       "        vertical-align: middle;\n",
       "    }\n",
       "\n",
       "    .dataframe tbody tr th {\n",
       "        vertical-align: top;\n",
       "    }\n",
       "\n",
       "    .dataframe thead th {\n",
       "        text-align: right;\n",
       "    }\n",
       "</style>\n",
       "<table border=\"1\" class=\"dataframe\">\n",
       "  <thead>\n",
       "    <tr style=\"text-align: right;\">\n",
       "      <th></th>\n",
       "      <th>one</th>\n",
       "      <th>two</th>\n",
       "      <th>three</th>\n",
       "      <th>flag</th>\n",
       "    </tr>\n",
       "  </thead>\n",
       "  <tbody>\n",
       "    <tr>\n",
       "      <th>a</th>\n",
       "      <td>1.0</td>\n",
       "      <td>1.0</td>\n",
       "      <td>2.0</td>\n",
       "      <td>False</td>\n",
       "    </tr>\n",
       "    <tr>\n",
       "      <th>b</th>\n",
       "      <td>2.0</td>\n",
       "      <td>2.0</td>\n",
       "      <td>4.0</td>\n",
       "      <td>False</td>\n",
       "    </tr>\n",
       "    <tr>\n",
       "      <th>c</th>\n",
       "      <td>3.0</td>\n",
       "      <td>3.0</td>\n",
       "      <td>6.0</td>\n",
       "      <td>True</td>\n",
       "    </tr>\n",
       "    <tr>\n",
       "      <th>d</th>\n",
       "      <td>NaN</td>\n",
       "      <td>4.0</td>\n",
       "      <td>NaN</td>\n",
       "      <td>False</td>\n",
       "    </tr>\n",
       "  </tbody>\n",
       "</table>\n",
       "</div>"
      ],
      "text/plain": [
       "   one  two  three   flag\n",
       "a  1.0  1.0    2.0  False\n",
       "b  2.0  2.0    4.0  False\n",
       "c  3.0  3.0    6.0   True\n",
       "d  NaN  4.0    NaN  False"
      ]
     },
     "execution_count": 91,
     "metadata": {},
     "output_type": "execute_result"
    }
   ],
   "source": [
    "df"
   ]
  },
  {
   "cell_type": "code",
   "execution_count": 93,
   "metadata": {},
   "outputs": [
    {
     "data": {
      "text/plain": [
       "one          2\n",
       "two          2\n",
       "three        4\n",
       "flag     False\n",
       "Name: b, dtype: object"
      ]
     },
     "execution_count": 93,
     "metadata": {},
     "output_type": "execute_result"
    }
   ],
   "source": [
    "df.loc['b']"
   ]
  },
  {
   "cell_type": "code",
   "execution_count": 94,
   "metadata": {},
   "outputs": [
    {
     "data": {
      "text/plain": [
       "one          1\n",
       "two          1\n",
       "three        2\n",
       "flag     False\n",
       "Name: a, dtype: object"
      ]
     },
     "execution_count": 94,
     "metadata": {},
     "output_type": "execute_result"
    }
   ],
   "source": [
    "df.loc['a']"
   ]
  },
  {
   "cell_type": "code",
   "execution_count": 95,
   "metadata": {},
   "outputs": [
    {
     "data": {
      "text/plain": [
       "one          3\n",
       "two          3\n",
       "three        6\n",
       "flag     False\n",
       "dtype: object"
      ]
     },
     "execution_count": 95,
     "metadata": {},
     "output_type": "execute_result"
    }
   ],
   "source": [
    "df.loc['a'] + df.loc['b']"
   ]
  },
  {
   "cell_type": "markdown",
   "metadata": {},
   "source": [
    "### Data alignment between DataFrame objects automatically align on both the columns and the index (row labels). Again, the resulting object will have the union of the column and row labels."
   ]
  },
  {
   "cell_type": "code",
   "execution_count": 96,
   "metadata": {},
   "outputs": [
    {
     "data": {
      "text/html": [
       "<div>\n",
       "<style scoped>\n",
       "    .dataframe tbody tr th:only-of-type {\n",
       "        vertical-align: middle;\n",
       "    }\n",
       "\n",
       "    .dataframe tbody tr th {\n",
       "        vertical-align: top;\n",
       "    }\n",
       "\n",
       "    .dataframe thead th {\n",
       "        text-align: right;\n",
       "    }\n",
       "</style>\n",
       "<table border=\"1\" class=\"dataframe\">\n",
       "  <thead>\n",
       "    <tr style=\"text-align: right;\">\n",
       "      <th></th>\n",
       "      <th>A</th>\n",
       "      <th>B</th>\n",
       "      <th>C</th>\n",
       "      <th>D</th>\n",
       "    </tr>\n",
       "  </thead>\n",
       "  <tbody>\n",
       "    <tr>\n",
       "      <th>0</th>\n",
       "      <td>-0.883206</td>\n",
       "      <td>0.468994</td>\n",
       "      <td>0.454072</td>\n",
       "      <td>NaN</td>\n",
       "    </tr>\n",
       "    <tr>\n",
       "      <th>1</th>\n",
       "      <td>-1.200047</td>\n",
       "      <td>-2.240392</td>\n",
       "      <td>0.056410</td>\n",
       "      <td>NaN</td>\n",
       "    </tr>\n",
       "    <tr>\n",
       "      <th>2</th>\n",
       "      <td>1.583691</td>\n",
       "      <td>-0.407867</td>\n",
       "      <td>-1.071818</td>\n",
       "      <td>NaN</td>\n",
       "    </tr>\n",
       "    <tr>\n",
       "      <th>3</th>\n",
       "      <td>2.033017</td>\n",
       "      <td>-0.979687</td>\n",
       "      <td>-0.879928</td>\n",
       "      <td>NaN</td>\n",
       "    </tr>\n",
       "    <tr>\n",
       "      <th>4</th>\n",
       "      <td>-1.844052</td>\n",
       "      <td>0.827675</td>\n",
       "      <td>1.505487</td>\n",
       "      <td>NaN</td>\n",
       "    </tr>\n",
       "    <tr>\n",
       "      <th>5</th>\n",
       "      <td>-0.899336</td>\n",
       "      <td>1.277919</td>\n",
       "      <td>-1.058340</td>\n",
       "      <td>NaN</td>\n",
       "    </tr>\n",
       "    <tr>\n",
       "      <th>6</th>\n",
       "      <td>0.444969</td>\n",
       "      <td>-0.037954</td>\n",
       "      <td>1.258722</td>\n",
       "      <td>NaN</td>\n",
       "    </tr>\n",
       "    <tr>\n",
       "      <th>7</th>\n",
       "      <td>NaN</td>\n",
       "      <td>NaN</td>\n",
       "      <td>NaN</td>\n",
       "      <td>NaN</td>\n",
       "    </tr>\n",
       "    <tr>\n",
       "      <th>8</th>\n",
       "      <td>NaN</td>\n",
       "      <td>NaN</td>\n",
       "      <td>NaN</td>\n",
       "      <td>NaN</td>\n",
       "    </tr>\n",
       "    <tr>\n",
       "      <th>9</th>\n",
       "      <td>NaN</td>\n",
       "      <td>NaN</td>\n",
       "      <td>NaN</td>\n",
       "      <td>NaN</td>\n",
       "    </tr>\n",
       "  </tbody>\n",
       "</table>\n",
       "</div>"
      ],
      "text/plain": [
       "          A         B         C   D\n",
       "0 -0.883206  0.468994  0.454072 NaN\n",
       "1 -1.200047 -2.240392  0.056410 NaN\n",
       "2  1.583691 -0.407867 -1.071818 NaN\n",
       "3  2.033017 -0.979687 -0.879928 NaN\n",
       "4 -1.844052  0.827675  1.505487 NaN\n",
       "5 -0.899336  1.277919 -1.058340 NaN\n",
       "6  0.444969 -0.037954  1.258722 NaN\n",
       "7       NaN       NaN       NaN NaN\n",
       "8       NaN       NaN       NaN NaN\n",
       "9       NaN       NaN       NaN NaN"
      ]
     },
     "execution_count": 96,
     "metadata": {},
     "output_type": "execute_result"
    }
   ],
   "source": [
    "df = pd.DataFrame(np.random.randn(10, 4), columns=['A', 'B', 'C', 'D'])\n",
    "df2 = pd.DataFrame(np.random.randn(7, 3), columns=['A', 'B', 'C'])\n",
    "df + df2"
   ]
  },
  {
   "cell_type": "code",
   "execution_count": 98,
   "metadata": {},
   "outputs": [
    {
     "name": "stdout",
     "output_type": "stream",
     "text": [
      "          A         B         C         D\n",
      "0  1.594585 -0.734946 -0.211459  1.955990\n",
      "1  0.069092 -1.387514  0.791077  0.348473\n",
      "2 -1.399662 -0.519973  1.498476 -2.097692\n",
      "3  1.719278 -0.586054 -0.179738 -0.111566\n",
      "4  0.777287 -1.261986  1.085029  0.332685\n",
      "5  0.963554 -0.989101 -0.574811 -0.314408\n",
      "6  1.238280  1.328624 -0.299472 -0.144359\n",
      "7 -1.017945 -0.158245 -0.270070  1.628091\n",
      "8  2.118774  1.873673  0.299924 -0.807937\n",
      "9 -0.546235 -0.725517  1.012687 -1.759136\n",
      "A    1.594585\n",
      "B   -0.734946\n",
      "C   -0.211459\n",
      "D    1.955990\n",
      "Name: 0, dtype: float64\n"
     ]
    },
    {
     "data": {
      "text/html": [
       "<div>\n",
       "<style scoped>\n",
       "    .dataframe tbody tr th:only-of-type {\n",
       "        vertical-align: middle;\n",
       "    }\n",
       "\n",
       "    .dataframe tbody tr th {\n",
       "        vertical-align: top;\n",
       "    }\n",
       "\n",
       "    .dataframe thead th {\n",
       "        text-align: right;\n",
       "    }\n",
       "</style>\n",
       "<table border=\"1\" class=\"dataframe\">\n",
       "  <thead>\n",
       "    <tr style=\"text-align: right;\">\n",
       "      <th></th>\n",
       "      <th>A</th>\n",
       "      <th>B</th>\n",
       "      <th>C</th>\n",
       "      <th>D</th>\n",
       "    </tr>\n",
       "  </thead>\n",
       "  <tbody>\n",
       "    <tr>\n",
       "      <th>0</th>\n",
       "      <td>0.000000</td>\n",
       "      <td>0.000000</td>\n",
       "      <td>0.000000</td>\n",
       "      <td>0.000000</td>\n",
       "    </tr>\n",
       "    <tr>\n",
       "      <th>1</th>\n",
       "      <td>-1.525493</td>\n",
       "      <td>-0.652568</td>\n",
       "      <td>1.002536</td>\n",
       "      <td>-1.607517</td>\n",
       "    </tr>\n",
       "    <tr>\n",
       "      <th>2</th>\n",
       "      <td>-2.994247</td>\n",
       "      <td>0.214973</td>\n",
       "      <td>1.709935</td>\n",
       "      <td>-4.053682</td>\n",
       "    </tr>\n",
       "    <tr>\n",
       "      <th>3</th>\n",
       "      <td>0.124693</td>\n",
       "      <td>0.148892</td>\n",
       "      <td>0.031721</td>\n",
       "      <td>-2.067556</td>\n",
       "    </tr>\n",
       "    <tr>\n",
       "      <th>4</th>\n",
       "      <td>-0.817298</td>\n",
       "      <td>-0.527039</td>\n",
       "      <td>1.296487</td>\n",
       "      <td>-1.623305</td>\n",
       "    </tr>\n",
       "    <tr>\n",
       "      <th>5</th>\n",
       "      <td>-0.631031</td>\n",
       "      <td>-0.254154</td>\n",
       "      <td>-0.363352</td>\n",
       "      <td>-2.270399</td>\n",
       "    </tr>\n",
       "    <tr>\n",
       "      <th>6</th>\n",
       "      <td>-0.356305</td>\n",
       "      <td>2.063570</td>\n",
       "      <td>-0.088013</td>\n",
       "      <td>-2.100349</td>\n",
       "    </tr>\n",
       "    <tr>\n",
       "      <th>7</th>\n",
       "      <td>-2.612530</td>\n",
       "      <td>0.576701</td>\n",
       "      <td>-0.058612</td>\n",
       "      <td>-0.327900</td>\n",
       "    </tr>\n",
       "    <tr>\n",
       "      <th>8</th>\n",
       "      <td>0.524189</td>\n",
       "      <td>2.608619</td>\n",
       "      <td>0.511383</td>\n",
       "      <td>-2.763927</td>\n",
       "    </tr>\n",
       "    <tr>\n",
       "      <th>9</th>\n",
       "      <td>-2.140820</td>\n",
       "      <td>0.009429</td>\n",
       "      <td>1.224146</td>\n",
       "      <td>-3.715126</td>\n",
       "    </tr>\n",
       "  </tbody>\n",
       "</table>\n",
       "</div>"
      ],
      "text/plain": [
       "          A         B         C         D\n",
       "0  0.000000  0.000000  0.000000  0.000000\n",
       "1 -1.525493 -0.652568  1.002536 -1.607517\n",
       "2 -2.994247  0.214973  1.709935 -4.053682\n",
       "3  0.124693  0.148892  0.031721 -2.067556\n",
       "4 -0.817298 -0.527039  1.296487 -1.623305\n",
       "5 -0.631031 -0.254154 -0.363352 -2.270399\n",
       "6 -0.356305  2.063570 -0.088013 -2.100349\n",
       "7 -2.612530  0.576701 -0.058612 -0.327900\n",
       "8  0.524189  2.608619  0.511383 -2.763927\n",
       "9 -2.140820  0.009429  1.224146 -3.715126"
      ]
     },
     "execution_count": 98,
     "metadata": {},
     "output_type": "execute_result"
    }
   ],
   "source": [
    "df = pd.DataFrame(np.random.randn(10, 4), columns=['A', 'B', 'C', 'D'])\n",
    "print(df)\n",
    "print(df.iloc[0])\n",
    "df - df.iloc[0]"
   ]
  },
  {
   "cell_type": "markdown",
   "metadata": {},
   "source": [
    "### To transpose, access the T attribute (also the transpose function), similar to an ndarray:"
   ]
  },
  {
   "cell_type": "code",
   "execution_count": 99,
   "metadata": {},
   "outputs": [
    {
     "data": {
      "text/html": [
       "<div>\n",
       "<style scoped>\n",
       "    .dataframe tbody tr th:only-of-type {\n",
       "        vertical-align: middle;\n",
       "    }\n",
       "\n",
       "    .dataframe tbody tr th {\n",
       "        vertical-align: top;\n",
       "    }\n",
       "\n",
       "    .dataframe thead th {\n",
       "        text-align: right;\n",
       "    }\n",
       "</style>\n",
       "<table border=\"1\" class=\"dataframe\">\n",
       "  <thead>\n",
       "    <tr style=\"text-align: right;\">\n",
       "      <th></th>\n",
       "      <th>A</th>\n",
       "      <th>B</th>\n",
       "      <th>C</th>\n",
       "      <th>D</th>\n",
       "    </tr>\n",
       "  </thead>\n",
       "  <tbody>\n",
       "    <tr>\n",
       "      <th>0</th>\n",
       "      <td>1.594585</td>\n",
       "      <td>-0.734946</td>\n",
       "      <td>-0.211459</td>\n",
       "      <td>1.955990</td>\n",
       "    </tr>\n",
       "    <tr>\n",
       "      <th>1</th>\n",
       "      <td>0.069092</td>\n",
       "      <td>-1.387514</td>\n",
       "      <td>0.791077</td>\n",
       "      <td>0.348473</td>\n",
       "    </tr>\n",
       "    <tr>\n",
       "      <th>2</th>\n",
       "      <td>-1.399662</td>\n",
       "      <td>-0.519973</td>\n",
       "      <td>1.498476</td>\n",
       "      <td>-2.097692</td>\n",
       "    </tr>\n",
       "    <tr>\n",
       "      <th>3</th>\n",
       "      <td>1.719278</td>\n",
       "      <td>-0.586054</td>\n",
       "      <td>-0.179738</td>\n",
       "      <td>-0.111566</td>\n",
       "    </tr>\n",
       "    <tr>\n",
       "      <th>4</th>\n",
       "      <td>0.777287</td>\n",
       "      <td>-1.261986</td>\n",
       "      <td>1.085029</td>\n",
       "      <td>0.332685</td>\n",
       "    </tr>\n",
       "    <tr>\n",
       "      <th>5</th>\n",
       "      <td>0.963554</td>\n",
       "      <td>-0.989101</td>\n",
       "      <td>-0.574811</td>\n",
       "      <td>-0.314408</td>\n",
       "    </tr>\n",
       "    <tr>\n",
       "      <th>6</th>\n",
       "      <td>1.238280</td>\n",
       "      <td>1.328624</td>\n",
       "      <td>-0.299472</td>\n",
       "      <td>-0.144359</td>\n",
       "    </tr>\n",
       "    <tr>\n",
       "      <th>7</th>\n",
       "      <td>-1.017945</td>\n",
       "      <td>-0.158245</td>\n",
       "      <td>-0.270070</td>\n",
       "      <td>1.628091</td>\n",
       "    </tr>\n",
       "    <tr>\n",
       "      <th>8</th>\n",
       "      <td>2.118774</td>\n",
       "      <td>1.873673</td>\n",
       "      <td>0.299924</td>\n",
       "      <td>-0.807937</td>\n",
       "    </tr>\n",
       "    <tr>\n",
       "      <th>9</th>\n",
       "      <td>-0.546235</td>\n",
       "      <td>-0.725517</td>\n",
       "      <td>1.012687</td>\n",
       "      <td>-1.759136</td>\n",
       "    </tr>\n",
       "  </tbody>\n",
       "</table>\n",
       "</div>"
      ],
      "text/plain": [
       "          A         B         C         D\n",
       "0  1.594585 -0.734946 -0.211459  1.955990\n",
       "1  0.069092 -1.387514  0.791077  0.348473\n",
       "2 -1.399662 -0.519973  1.498476 -2.097692\n",
       "3  1.719278 -0.586054 -0.179738 -0.111566\n",
       "4  0.777287 -1.261986  1.085029  0.332685\n",
       "5  0.963554 -0.989101 -0.574811 -0.314408\n",
       "6  1.238280  1.328624 -0.299472 -0.144359\n",
       "7 -1.017945 -0.158245 -0.270070  1.628091\n",
       "8  2.118774  1.873673  0.299924 -0.807937\n",
       "9 -0.546235 -0.725517  1.012687 -1.759136"
      ]
     },
     "execution_count": 99,
     "metadata": {},
     "output_type": "execute_result"
    }
   ],
   "source": [
    "df"
   ]
  },
  {
   "cell_type": "code",
   "execution_count": 100,
   "metadata": {},
   "outputs": [
    {
     "data": {
      "text/html": [
       "<div>\n",
       "<style scoped>\n",
       "    .dataframe tbody tr th:only-of-type {\n",
       "        vertical-align: middle;\n",
       "    }\n",
       "\n",
       "    .dataframe tbody tr th {\n",
       "        vertical-align: top;\n",
       "    }\n",
       "\n",
       "    .dataframe thead th {\n",
       "        text-align: right;\n",
       "    }\n",
       "</style>\n",
       "<table border=\"1\" class=\"dataframe\">\n",
       "  <thead>\n",
       "    <tr style=\"text-align: right;\">\n",
       "      <th></th>\n",
       "      <th>0</th>\n",
       "      <th>1</th>\n",
       "      <th>2</th>\n",
       "      <th>3</th>\n",
       "      <th>4</th>\n",
       "      <th>5</th>\n",
       "      <th>6</th>\n",
       "      <th>7</th>\n",
       "      <th>8</th>\n",
       "      <th>9</th>\n",
       "    </tr>\n",
       "  </thead>\n",
       "  <tbody>\n",
       "    <tr>\n",
       "      <th>A</th>\n",
       "      <td>1.594585</td>\n",
       "      <td>0.069092</td>\n",
       "      <td>-1.399662</td>\n",
       "      <td>1.719278</td>\n",
       "      <td>0.777287</td>\n",
       "      <td>0.963554</td>\n",
       "      <td>1.238280</td>\n",
       "      <td>-1.017945</td>\n",
       "      <td>2.118774</td>\n",
       "      <td>-0.546235</td>\n",
       "    </tr>\n",
       "    <tr>\n",
       "      <th>B</th>\n",
       "      <td>-0.734946</td>\n",
       "      <td>-1.387514</td>\n",
       "      <td>-0.519973</td>\n",
       "      <td>-0.586054</td>\n",
       "      <td>-1.261986</td>\n",
       "      <td>-0.989101</td>\n",
       "      <td>1.328624</td>\n",
       "      <td>-0.158245</td>\n",
       "      <td>1.873673</td>\n",
       "      <td>-0.725517</td>\n",
       "    </tr>\n",
       "    <tr>\n",
       "      <th>C</th>\n",
       "      <td>-0.211459</td>\n",
       "      <td>0.791077</td>\n",
       "      <td>1.498476</td>\n",
       "      <td>-0.179738</td>\n",
       "      <td>1.085029</td>\n",
       "      <td>-0.574811</td>\n",
       "      <td>-0.299472</td>\n",
       "      <td>-0.270070</td>\n",
       "      <td>0.299924</td>\n",
       "      <td>1.012687</td>\n",
       "    </tr>\n",
       "    <tr>\n",
       "      <th>D</th>\n",
       "      <td>1.955990</td>\n",
       "      <td>0.348473</td>\n",
       "      <td>-2.097692</td>\n",
       "      <td>-0.111566</td>\n",
       "      <td>0.332685</td>\n",
       "      <td>-0.314408</td>\n",
       "      <td>-0.144359</td>\n",
       "      <td>1.628091</td>\n",
       "      <td>-0.807937</td>\n",
       "      <td>-1.759136</td>\n",
       "    </tr>\n",
       "  </tbody>\n",
       "</table>\n",
       "</div>"
      ],
      "text/plain": [
       "          0         1         2         3         4         5         6  \\\n",
       "A  1.594585  0.069092 -1.399662  1.719278  0.777287  0.963554  1.238280   \n",
       "B -0.734946 -1.387514 -0.519973 -0.586054 -1.261986 -0.989101  1.328624   \n",
       "C -0.211459  0.791077  1.498476 -0.179738  1.085029 -0.574811 -0.299472   \n",
       "D  1.955990  0.348473 -2.097692 -0.111566  0.332685 -0.314408 -0.144359   \n",
       "\n",
       "          7         8         9  \n",
       "A -1.017945  2.118774 -0.546235  \n",
       "B -0.158245  1.873673 -0.725517  \n",
       "C -0.270070  0.299924  1.012687  \n",
       "D  1.628091 -0.807937 -1.759136  "
      ]
     },
     "execution_count": 100,
     "metadata": {},
     "output_type": "execute_result"
    }
   ],
   "source": [
    "df.T"
   ]
  },
  {
   "cell_type": "code",
   "execution_count": 101,
   "metadata": {},
   "outputs": [
    {
     "data": {
      "text/plain": [
       "A    0.777287\n",
       "B   -1.261986\n",
       "C    1.085029\n",
       "D    0.332685\n",
       "Name: 4, dtype: float64"
      ]
     },
     "execution_count": 101,
     "metadata": {},
     "output_type": "execute_result"
    }
   ],
   "source": [
    "df.T[4]"
   ]
  },
  {
   "cell_type": "code",
   "execution_count": 102,
   "metadata": {},
   "outputs": [
    {
     "data": {
      "text/html": [
       "<div>\n",
       "<style scoped>\n",
       "    .dataframe tbody tr th:only-of-type {\n",
       "        vertical-align: middle;\n",
       "    }\n",
       "\n",
       "    .dataframe tbody tr th {\n",
       "        vertical-align: top;\n",
       "    }\n",
       "\n",
       "    .dataframe thead th {\n",
       "        text-align: right;\n",
       "    }\n",
       "</style>\n",
       "<table border=\"1\" class=\"dataframe\">\n",
       "  <thead>\n",
       "    <tr style=\"text-align: right;\">\n",
       "      <th></th>\n",
       "      <th>A</th>\n",
       "      <th>B</th>\n",
       "      <th>C</th>\n",
       "      <th>D</th>\n",
       "    </tr>\n",
       "  </thead>\n",
       "  <tbody>\n",
       "    <tr>\n",
       "      <th>0</th>\n",
       "      <td>1.594585</td>\n",
       "      <td>-0.734946</td>\n",
       "      <td>-0.211459</td>\n",
       "      <td>1.955990</td>\n",
       "    </tr>\n",
       "    <tr>\n",
       "      <th>1</th>\n",
       "      <td>0.069092</td>\n",
       "      <td>-1.387514</td>\n",
       "      <td>0.791077</td>\n",
       "      <td>0.348473</td>\n",
       "    </tr>\n",
       "    <tr>\n",
       "      <th>2</th>\n",
       "      <td>-1.399662</td>\n",
       "      <td>-0.519973</td>\n",
       "      <td>1.498476</td>\n",
       "      <td>-2.097692</td>\n",
       "    </tr>\n",
       "    <tr>\n",
       "      <th>3</th>\n",
       "      <td>1.719278</td>\n",
       "      <td>-0.586054</td>\n",
       "      <td>-0.179738</td>\n",
       "      <td>-0.111566</td>\n",
       "    </tr>\n",
       "    <tr>\n",
       "      <th>4</th>\n",
       "      <td>0.777287</td>\n",
       "      <td>-1.261986</td>\n",
       "      <td>1.085029</td>\n",
       "      <td>0.332685</td>\n",
       "    </tr>\n",
       "    <tr>\n",
       "      <th>5</th>\n",
       "      <td>0.963554</td>\n",
       "      <td>-0.989101</td>\n",
       "      <td>-0.574811</td>\n",
       "      <td>-0.314408</td>\n",
       "    </tr>\n",
       "    <tr>\n",
       "      <th>6</th>\n",
       "      <td>1.238280</td>\n",
       "      <td>1.328624</td>\n",
       "      <td>-0.299472</td>\n",
       "      <td>-0.144359</td>\n",
       "    </tr>\n",
       "    <tr>\n",
       "      <th>7</th>\n",
       "      <td>-1.017945</td>\n",
       "      <td>-0.158245</td>\n",
       "      <td>-0.270070</td>\n",
       "      <td>1.628091</td>\n",
       "    </tr>\n",
       "    <tr>\n",
       "      <th>8</th>\n",
       "      <td>2.118774</td>\n",
       "      <td>1.873673</td>\n",
       "      <td>0.299924</td>\n",
       "      <td>-0.807937</td>\n",
       "    </tr>\n",
       "    <tr>\n",
       "      <th>9</th>\n",
       "      <td>-0.546235</td>\n",
       "      <td>-0.725517</td>\n",
       "      <td>1.012687</td>\n",
       "      <td>-1.759136</td>\n",
       "    </tr>\n",
       "  </tbody>\n",
       "</table>\n",
       "</div>"
      ],
      "text/plain": [
       "          A         B         C         D\n",
       "0  1.594585 -0.734946 -0.211459  1.955990\n",
       "1  0.069092 -1.387514  0.791077  0.348473\n",
       "2 -1.399662 -0.519973  1.498476 -2.097692\n",
       "3  1.719278 -0.586054 -0.179738 -0.111566\n",
       "4  0.777287 -1.261986  1.085029  0.332685\n",
       "5  0.963554 -0.989101 -0.574811 -0.314408\n",
       "6  1.238280  1.328624 -0.299472 -0.144359\n",
       "7 -1.017945 -0.158245 -0.270070  1.628091\n",
       "8  2.118774  1.873673  0.299924 -0.807937\n",
       "9 -0.546235 -0.725517  1.012687 -1.759136"
      ]
     },
     "execution_count": 102,
     "metadata": {},
     "output_type": "execute_result"
    }
   ],
   "source": [
    "df"
   ]
  },
  {
   "cell_type": "code",
   "execution_count": 103,
   "metadata": {},
   "outputs": [
    {
     "data": {
      "text/html": [
       "<div>\n",
       "<style scoped>\n",
       "    .dataframe tbody tr th:only-of-type {\n",
       "        vertical-align: middle;\n",
       "    }\n",
       "\n",
       "    .dataframe tbody tr th {\n",
       "        vertical-align: top;\n",
       "    }\n",
       "\n",
       "    .dataframe thead th {\n",
       "        text-align: right;\n",
       "    }\n",
       "</style>\n",
       "<table border=\"1\" class=\"dataframe\">\n",
       "  <thead>\n",
       "    <tr style=\"text-align: right;\">\n",
       "      <th></th>\n",
       "      <th>A</th>\n",
       "      <th>B</th>\n",
       "      <th>C</th>\n",
       "      <th>D</th>\n",
       "    </tr>\n",
       "  </thead>\n",
       "  <tbody>\n",
       "    <tr>\n",
       "      <th>0</th>\n",
       "      <td>4.926284</td>\n",
       "      <td>0.479531</td>\n",
       "      <td>0.809403</td>\n",
       "      <td>7.070917</td>\n",
       "    </tr>\n",
       "    <tr>\n",
       "      <th>1</th>\n",
       "      <td>1.071535</td>\n",
       "      <td>0.249695</td>\n",
       "      <td>2.205771</td>\n",
       "      <td>1.416902</td>\n",
       "    </tr>\n",
       "    <tr>\n",
       "      <th>2</th>\n",
       "      <td>0.246680</td>\n",
       "      <td>0.594537</td>\n",
       "      <td>4.474863</td>\n",
       "      <td>0.122739</td>\n",
       "    </tr>\n",
       "    <tr>\n",
       "      <th>3</th>\n",
       "      <td>5.580500</td>\n",
       "      <td>0.556519</td>\n",
       "      <td>0.835489</td>\n",
       "      <td>0.894433</td>\n",
       "    </tr>\n",
       "    <tr>\n",
       "      <th>4</th>\n",
       "      <td>2.175561</td>\n",
       "      <td>0.283091</td>\n",
       "      <td>2.959524</td>\n",
       "      <td>1.394708</td>\n",
       "    </tr>\n",
       "    <tr>\n",
       "      <th>5</th>\n",
       "      <td>2.620994</td>\n",
       "      <td>0.371911</td>\n",
       "      <td>0.562811</td>\n",
       "      <td>0.730221</td>\n",
       "    </tr>\n",
       "    <tr>\n",
       "      <th>6</th>\n",
       "      <td>3.449674</td>\n",
       "      <td>3.775845</td>\n",
       "      <td>0.741210</td>\n",
       "      <td>0.865577</td>\n",
       "    </tr>\n",
       "    <tr>\n",
       "      <th>7</th>\n",
       "      <td>0.361337</td>\n",
       "      <td>0.853641</td>\n",
       "      <td>0.763326</td>\n",
       "      <td>5.094138</td>\n",
       "    </tr>\n",
       "    <tr>\n",
       "      <th>8</th>\n",
       "      <td>8.320928</td>\n",
       "      <td>6.512169</td>\n",
       "      <td>1.349756</td>\n",
       "      <td>0.445777</td>\n",
       "    </tr>\n",
       "    <tr>\n",
       "      <th>9</th>\n",
       "      <td>0.579126</td>\n",
       "      <td>0.484074</td>\n",
       "      <td>2.752988</td>\n",
       "      <td>0.172194</td>\n",
       "    </tr>\n",
       "  </tbody>\n",
       "</table>\n",
       "</div>"
      ],
      "text/plain": [
       "          A         B         C         D\n",
       "0  4.926284  0.479531  0.809403  7.070917\n",
       "1  1.071535  0.249695  2.205771  1.416902\n",
       "2  0.246680  0.594537  4.474863  0.122739\n",
       "3  5.580500  0.556519  0.835489  0.894433\n",
       "4  2.175561  0.283091  2.959524  1.394708\n",
       "5  2.620994  0.371911  0.562811  0.730221\n",
       "6  3.449674  3.775845  0.741210  0.865577\n",
       "7  0.361337  0.853641  0.763326  5.094138\n",
       "8  8.320928  6.512169  1.349756  0.445777\n",
       "9  0.579126  0.484074  2.752988  0.172194"
      ]
     },
     "execution_count": 103,
     "metadata": {},
     "output_type": "execute_result"
    }
   ],
   "source": [
    "np.exp(df)"
   ]
  },
  {
   "cell_type": "markdown",
   "metadata": {},
   "source": [
    "### dot is the matrix multiplication.  T is the transpose"
   ]
  },
  {
   "cell_type": "code",
   "execution_count": 104,
   "metadata": {},
   "outputs": [
    {
     "data": {
      "text/html": [
       "<div>\n",
       "<style scoped>\n",
       "    .dataframe tbody tr th:only-of-type {\n",
       "        vertical-align: middle;\n",
       "    }\n",
       "\n",
       "    .dataframe tbody tr th {\n",
       "        vertical-align: top;\n",
       "    }\n",
       "\n",
       "    .dataframe thead th {\n",
       "        text-align: right;\n",
       "    }\n",
       "</style>\n",
       "<table border=\"1\" class=\"dataframe\">\n",
       "  <thead>\n",
       "    <tr style=\"text-align: right;\">\n",
       "      <th></th>\n",
       "      <th>A</th>\n",
       "      <th>B</th>\n",
       "      <th>C</th>\n",
       "      <th>D</th>\n",
       "    </tr>\n",
       "  </thead>\n",
       "  <tbody>\n",
       "    <tr>\n",
       "      <th>A</th>\n",
       "      <td>16.352180</td>\n",
       "      <td>2.690903</td>\n",
       "      <td>-2.413000</td>\n",
       "      <td>3.255961</td>\n",
       "    </tr>\n",
       "    <tr>\n",
       "      <th>B</th>\n",
       "      <td>2.690903</td>\n",
       "      <td>11.477410</td>\n",
       "      <td>-2.944706</td>\n",
       "      <td>-1.560755</td>\n",
       "    </tr>\n",
       "    <tr>\n",
       "      <th>C</th>\n",
       "      <td>-2.413000</td>\n",
       "      <td>-2.944706</td>\n",
       "      <td>5.734058</td>\n",
       "      <td>-5.139773</td>\n",
       "    </tr>\n",
       "    <tr>\n",
       "      <th>D</th>\n",
       "      <td>3.255961</td>\n",
       "      <td>-1.560755</td>\n",
       "      <td>-5.139773</td>\n",
       "      <td>14.988460</td>\n",
       "    </tr>\n",
       "  </tbody>\n",
       "</table>\n",
       "</div>"
      ],
      "text/plain": [
       "           A          B         C          D\n",
       "A  16.352180   2.690903 -2.413000   3.255961\n",
       "B   2.690903  11.477410 -2.944706  -1.560755\n",
       "C  -2.413000  -2.944706  5.734058  -5.139773\n",
       "D   3.255961  -1.560755 -5.139773  14.988460"
      ]
     },
     "execution_count": 104,
     "metadata": {},
     "output_type": "execute_result"
    }
   ],
   "source": [
    "df.T.dot(df)"
   ]
  },
  {
   "cell_type": "code",
   "execution_count": 105,
   "metadata": {},
   "outputs": [
    {
     "data": {
      "text/html": [
       "<div>\n",
       "<style scoped>\n",
       "    .dataframe tbody tr th:only-of-type {\n",
       "        vertical-align: middle;\n",
       "    }\n",
       "\n",
       "    .dataframe tbody tr th {\n",
       "        vertical-align: top;\n",
       "    }\n",
       "\n",
       "    .dataframe thead th {\n",
       "        text-align: right;\n",
       "    }\n",
       "</style>\n",
       "<table border=\"1\" class=\"dataframe\">\n",
       "  <thead>\n",
       "    <tr style=\"text-align: right;\">\n",
       "      <th></th>\n",
       "      <th>A</th>\n",
       "      <th>B</th>\n",
       "      <th>C</th>\n",
       "      <th>D</th>\n",
       "    </tr>\n",
       "  </thead>\n",
       "  <tbody>\n",
       "    <tr>\n",
       "      <th>0</th>\n",
       "      <td>1.594585</td>\n",
       "      <td>-0.734946</td>\n",
       "      <td>-0.211459</td>\n",
       "      <td>1.955990</td>\n",
       "    </tr>\n",
       "    <tr>\n",
       "      <th>1</th>\n",
       "      <td>0.069092</td>\n",
       "      <td>-1.387514</td>\n",
       "      <td>0.791077</td>\n",
       "      <td>0.348473</td>\n",
       "    </tr>\n",
       "    <tr>\n",
       "      <th>2</th>\n",
       "      <td>-1.399662</td>\n",
       "      <td>-0.519973</td>\n",
       "      <td>1.498476</td>\n",
       "      <td>-2.097692</td>\n",
       "    </tr>\n",
       "    <tr>\n",
       "      <th>3</th>\n",
       "      <td>1.719278</td>\n",
       "      <td>-0.586054</td>\n",
       "      <td>-0.179738</td>\n",
       "      <td>-0.111566</td>\n",
       "    </tr>\n",
       "    <tr>\n",
       "      <th>4</th>\n",
       "      <td>0.777287</td>\n",
       "      <td>-1.261986</td>\n",
       "      <td>1.085029</td>\n",
       "      <td>0.332685</td>\n",
       "    </tr>\n",
       "    <tr>\n",
       "      <th>5</th>\n",
       "      <td>0.963554</td>\n",
       "      <td>-0.989101</td>\n",
       "      <td>-0.574811</td>\n",
       "      <td>-0.314408</td>\n",
       "    </tr>\n",
       "    <tr>\n",
       "      <th>6</th>\n",
       "      <td>1.238280</td>\n",
       "      <td>1.328624</td>\n",
       "      <td>-0.299472</td>\n",
       "      <td>-0.144359</td>\n",
       "    </tr>\n",
       "    <tr>\n",
       "      <th>7</th>\n",
       "      <td>-1.017945</td>\n",
       "      <td>-0.158245</td>\n",
       "      <td>-0.270070</td>\n",
       "      <td>1.628091</td>\n",
       "    </tr>\n",
       "    <tr>\n",
       "      <th>8</th>\n",
       "      <td>2.118774</td>\n",
       "      <td>1.873673</td>\n",
       "      <td>0.299924</td>\n",
       "      <td>-0.807937</td>\n",
       "    </tr>\n",
       "    <tr>\n",
       "      <th>9</th>\n",
       "      <td>-0.546235</td>\n",
       "      <td>-0.725517</td>\n",
       "      <td>1.012687</td>\n",
       "      <td>-1.759136</td>\n",
       "    </tr>\n",
       "  </tbody>\n",
       "</table>\n",
       "</div>"
      ],
      "text/plain": [
       "          A         B         C         D\n",
       "0  1.594585 -0.734946 -0.211459  1.955990\n",
       "1  0.069092 -1.387514  0.791077  0.348473\n",
       "2 -1.399662 -0.519973  1.498476 -2.097692\n",
       "3  1.719278 -0.586054 -0.179738 -0.111566\n",
       "4  0.777287 -1.261986  1.085029  0.332685\n",
       "5  0.963554 -0.989101 -0.574811 -0.314408\n",
       "6  1.238280  1.328624 -0.299472 -0.144359\n",
       "7 -1.017945 -0.158245 -0.270070  1.628091\n",
       "8  2.118774  1.873673  0.299924 -0.807937\n",
       "9 -0.546235 -0.725517  1.012687 -1.759136"
      ]
     },
     "execution_count": 105,
     "metadata": {},
     "output_type": "execute_result"
    }
   ],
   "source": [
    "df"
   ]
  },
  {
   "cell_type": "code",
   "execution_count": 106,
   "metadata": {},
   "outputs": [
    {
     "data": {
      "text/html": [
       "<div>\n",
       "<style scoped>\n",
       "    .dataframe tbody tr th:only-of-type {\n",
       "        vertical-align: middle;\n",
       "    }\n",
       "\n",
       "    .dataframe tbody tr th {\n",
       "        vertical-align: top;\n",
       "    }\n",
       "\n",
       "    .dataframe thead th {\n",
       "        text-align: right;\n",
       "    }\n",
       "</style>\n",
       "<table border=\"1\" class=\"dataframe\">\n",
       "  <thead>\n",
       "    <tr style=\"text-align: right;\">\n",
       "      <th></th>\n",
       "      <th>0</th>\n",
       "      <th>1</th>\n",
       "      <th>2</th>\n",
       "      <th>3</th>\n",
       "      <th>4</th>\n",
       "      <th>5</th>\n",
       "      <th>6</th>\n",
       "      <th>7</th>\n",
       "      <th>8</th>\n",
       "      <th>9</th>\n",
       "    </tr>\n",
       "  </thead>\n",
       "  <tbody>\n",
       "    <tr>\n",
       "      <th>0</th>\n",
       "      <td>6.953460</td>\n",
       "      <td>1.644251</td>\n",
       "      <td>-6.269658</td>\n",
       "      <td>2.992040</td>\n",
       "      <td>2.588231</td>\n",
       "      <td>1.769973</td>\n",
       "      <td>0.779036</td>\n",
       "      <td>1.734740</td>\n",
       "      <td>0.357778</td>\n",
       "      <td>-3.992796</td>\n",
       "    </tr>\n",
       "    <tr>\n",
       "      <th>1</th>\n",
       "      <td>1.644251</td>\n",
       "      <td>2.677206</td>\n",
       "      <td>1.079185</td>\n",
       "      <td>0.750883</td>\n",
       "      <td>2.779000</td>\n",
       "      <td>0.874683</td>\n",
       "      <td>-2.045140</td>\n",
       "      <td>0.502934</td>\n",
       "      <td>-2.497638</td>\n",
       "      <td>1.157027</td>\n",
       "    </tr>\n",
       "    <tr>\n",
       "      <th>2</th>\n",
       "      <td>-6.269658</td>\n",
       "      <td>1.079185</td>\n",
       "      <td>8.875165</td>\n",
       "      <td>-2.136979</td>\n",
       "      <td>0.496278</td>\n",
       "      <td>-1.036152</td>\n",
       "      <td>-2.569952</td>\n",
       "      <td>-2.312864</td>\n",
       "      <td>-1.795594</td>\n",
       "      <td>6.349405</td>\n",
       "    </tr>\n",
       "    <tr>\n",
       "      <th>3</th>\n",
       "      <td>2.992040</td>\n",
       "      <td>0.750883</td>\n",
       "      <td>-2.136979</td>\n",
       "      <td>3.344130</td>\n",
       "      <td>1.843827</td>\n",
       "      <td>2.374676</td>\n",
       "      <td>1.420234</td>\n",
       "      <td>-1.790488</td>\n",
       "      <td>2.580919</td>\n",
       "      <td>-0.499697</td>\n",
       "    </tr>\n",
       "    <tr>\n",
       "      <th>4</th>\n",
       "      <td>2.588231</td>\n",
       "      <td>2.779000</td>\n",
       "      <td>0.496278</td>\n",
       "      <td>1.843827</td>\n",
       "      <td>3.484749</td>\n",
       "      <td>1.268903</td>\n",
       "      <td>-1.087168</td>\n",
       "      <td>-0.342925</td>\n",
       "      <td>-0.661015</td>\n",
       "      <td>1.004567</td>\n",
       "    </tr>\n",
       "    <tr>\n",
       "      <th>5</th>\n",
       "      <td>1.769973</td>\n",
       "      <td>0.874683</td>\n",
       "      <td>-1.036152</td>\n",
       "      <td>2.374676</td>\n",
       "      <td>1.268903</td>\n",
       "      <td>2.336017</td>\n",
       "      <td>0.096533</td>\n",
       "      <td>-1.180971</td>\n",
       "      <td>0.269924</td>\n",
       "      <td>0.162267</td>\n",
       "    </tr>\n",
       "    <tr>\n",
       "      <th>6</th>\n",
       "      <td>0.779036</td>\n",
       "      <td>-2.045140</td>\n",
       "      <td>-2.569952</td>\n",
       "      <td>1.420234</td>\n",
       "      <td>-1.087168</td>\n",
       "      <td>0.096533</td>\n",
       "      <td>3.409101</td>\n",
       "      <td>-1.624900</td>\n",
       "      <td>5.139855</td>\n",
       "      <td>-1.689656</td>\n",
       "    </tr>\n",
       "    <tr>\n",
       "      <th>7</th>\n",
       "      <td>1.734740</td>\n",
       "      <td>0.502934</td>\n",
       "      <td>-2.312864</td>\n",
       "      <td>-1.790488</td>\n",
       "      <td>-0.342925</td>\n",
       "      <td>-1.180971</td>\n",
       "      <td>-1.624900</td>\n",
       "      <td>3.784871</td>\n",
       "      <td>-3.849690</td>\n",
       "      <td>-2.466683</td>\n",
       "    </tr>\n",
       "    <tr>\n",
       "      <th>8</th>\n",
       "      <td>0.357778</td>\n",
       "      <td>-2.497638</td>\n",
       "      <td>-1.795594</td>\n",
       "      <td>2.580919</td>\n",
       "      <td>-0.661015</td>\n",
       "      <td>0.269924</td>\n",
       "      <td>5.139855</td>\n",
       "      <td>-3.849690</td>\n",
       "      <td>8.742567</td>\n",
       "      <td>-0.791731</td>\n",
       "    </tr>\n",
       "    <tr>\n",
       "      <th>9</th>\n",
       "      <td>-3.992796</td>\n",
       "      <td>1.157027</td>\n",
       "      <td>6.349405</td>\n",
       "      <td>-0.499697</td>\n",
       "      <td>1.004567</td>\n",
       "      <td>0.162267</td>\n",
       "      <td>-1.689656</td>\n",
       "      <td>-2.466683</td>\n",
       "      <td>-0.791731</td>\n",
       "      <td>4.944842</td>\n",
       "    </tr>\n",
       "  </tbody>\n",
       "</table>\n",
       "</div>"
      ],
      "text/plain": [
       "          0         1         2         3         4         5         6  \\\n",
       "0  6.953460  1.644251 -6.269658  2.992040  2.588231  1.769973  0.779036   \n",
       "1  1.644251  2.677206  1.079185  0.750883  2.779000  0.874683 -2.045140   \n",
       "2 -6.269658  1.079185  8.875165 -2.136979  0.496278 -1.036152 -2.569952   \n",
       "3  2.992040  0.750883 -2.136979  3.344130  1.843827  2.374676  1.420234   \n",
       "4  2.588231  2.779000  0.496278  1.843827  3.484749  1.268903 -1.087168   \n",
       "5  1.769973  0.874683 -1.036152  2.374676  1.268903  2.336017  0.096533   \n",
       "6  0.779036 -2.045140 -2.569952  1.420234 -1.087168  0.096533  3.409101   \n",
       "7  1.734740  0.502934 -2.312864 -1.790488 -0.342925 -1.180971 -1.624900   \n",
       "8  0.357778 -2.497638 -1.795594  2.580919 -0.661015  0.269924  5.139855   \n",
       "9 -3.992796  1.157027  6.349405 -0.499697  1.004567  0.162267 -1.689656   \n",
       "\n",
       "          7         8         9  \n",
       "0  1.734740  0.357778 -3.992796  \n",
       "1  0.502934 -2.497638  1.157027  \n",
       "2 -2.312864 -1.795594  6.349405  \n",
       "3 -1.790488  2.580919 -0.499697  \n",
       "4 -0.342925 -0.661015  1.004567  \n",
       "5 -1.180971  0.269924  0.162267  \n",
       "6 -1.624900  5.139855 -1.689656  \n",
       "7  3.784871 -3.849690 -2.466683  \n",
       "8 -3.849690  8.742567 -0.791731  \n",
       "9 -2.466683 -0.791731  4.944842  "
      ]
     },
     "execution_count": 106,
     "metadata": {},
     "output_type": "execute_result"
    }
   ],
   "source": [
    "df.dot(df.T)"
   ]
  },
  {
   "cell_type": "markdown",
   "metadata": {},
   "source": [
    "### On a series object, dot does the dot product"
   ]
  },
  {
   "cell_type": "code",
   "execution_count": 109,
   "metadata": {},
   "outputs": [
    {
     "data": {
      "text/plain": [
       "a    0.347547\n",
       "b    0.178730\n",
       "c    0.816665\n",
       "dtype: float64"
      ]
     },
     "execution_count": 109,
     "metadata": {},
     "output_type": "execute_result"
    }
   ],
   "source": [
    "s = pd.Series(np.random.randn(3), ['a','b','c'])\n",
    "s"
   ]
  },
  {
   "cell_type": "code",
   "execution_count": 110,
   "metadata": {},
   "outputs": [
    {
     "data": {
      "text/plain": [
       "0.819675668777953"
      ]
     },
     "execution_count": 110,
     "metadata": {},
     "output_type": "execute_result"
    }
   ],
   "source": [
    "s.dot(s)"
   ]
  },
  {
   "cell_type": "code",
   "execution_count": 116,
   "metadata": {},
   "outputs": [
    {
     "data": {
      "text/plain": [
       "0    1\n",
       "1    2\n",
       "2    3\n",
       "dtype: int64"
      ]
     },
     "execution_count": 116,
     "metadata": {},
     "output_type": "execute_result"
    }
   ],
   "source": [
    "s = pd.Series(np.arange(1,4))\n",
    "s"
   ]
  },
  {
   "cell_type": "code",
   "execution_count": 117,
   "metadata": {},
   "outputs": [
    {
     "data": {
      "text/plain": [
       "14"
      ]
     },
     "execution_count": 117,
     "metadata": {},
     "output_type": "execute_result"
    }
   ],
   "source": [
    "s.dot(s)"
   ]
  },
  {
   "cell_type": "code",
   "execution_count": null,
   "metadata": {},
   "outputs": [],
   "source": []
  }
 ],
 "metadata": {
  "kernelspec": {
   "display_name": "Python 3",
   "language": "python",
   "name": "python3"
  },
  "language_info": {
   "codemirror_mode": {
    "name": "ipython",
    "version": 3
   },
   "file_extension": ".py",
   "mimetype": "text/x-python",
   "name": "python",
   "nbconvert_exporter": "python",
   "pygments_lexer": "ipython3",
   "version": "3.6.5"
  }
 },
 "nbformat": 4,
 "nbformat_minor": 2
}
