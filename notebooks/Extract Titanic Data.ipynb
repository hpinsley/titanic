{
 "cells": [
  {
   "cell_type": "code",
   "execution_count": 1,
   "metadata": {},
   "outputs": [
    {
     "name": "stdout",
     "output_type": "stream",
     "text": [
      "Collecting python-dotenv\n",
      "  Downloading https://files.pythonhosted.org/packages/85/9f/b76a51bb851fa25f7a162a16297f4473c67ec42dd55e4f7fc5b43913a606/python_dotenv-0.8.2-py2.py3-none-any.whl\n",
      "\u001b[31mdistributed 1.21.8 requires msgpack, which is not installed.\u001b[0m\n",
      "Installing collected packages: python-dotenv\n",
      "Successfully installed python-dotenv-0.8.2\n"
     ]
    }
   ],
   "source": [
    "!pip install python-dotenv"
   ]
  },
  {
   "cell_type": "code",
   "execution_count": 2,
   "metadata": {},
   "outputs": [],
   "source": [
    "from dotenv import load_dotenv, find_dotenv"
   ]
  },
  {
   "cell_type": "code",
   "execution_count": 12,
   "metadata": {},
   "outputs": [
    {
     "data": {
      "text/plain": [
       "True"
      ]
     },
     "execution_count": 12,
     "metadata": {},
     "output_type": "execute_result"
    }
   ],
   "source": [
    "dotenv_path = find_dotenv()\n",
    "load_dotenv(dotenv_path)"
   ]
  },
  {
   "cell_type": "code",
   "execution_count": 13,
   "metadata": {},
   "outputs": [
    {
     "name": "stdout",
     "output_type": "stream",
     "text": [
      "hpinsley 13\n"
     ]
    }
   ],
   "source": [
    "import os\n",
    "KAGGLE_USERNAME = os.environ.get(\"KAGGLE_USERNAME\")\n",
    "KAGGLE_PASSWORD = os.environ.get(\"KAGGLE_PASSWORD\")\n",
    "print(KAGGLE_USERNAME, len(KAGGLE_PASSWORD))"
   ]
  },
  {
   "cell_type": "code",
   "execution_count": 34,
   "metadata": {},
   "outputs": [
    {
     "name": "stdout",
     "output_type": "stream",
     "text": [
      "t6FA5W6CP0oa5JS-EGIt4Xcb8MXVy6hunELDUgsejSAaJb9yw2H9yleQNHsyMgufUoh_tfMsVlHofSZe30u5ZV5AAPE1\n",
      "Status code is 200\n",
      "<class 'str'>\n"
     ]
    }
   ],
   "source": [
    "import requests\n",
    "from requests import session\n",
    "\n",
    "login_url = \"https://www.kaggle.com/account/login\"\n",
    "training_data_url = \"https://www.kaggle.com/c/titanic/download/train.csv\"\n",
    "\n",
    "\n",
    "with session() as c:\n",
    "    # We need to first get the login page and scrape off the anti-forgery token\n",
    "    html_page = c.get(login_url).text\n",
    "    index = html_page.index('antiForgeryToken')\n",
    "    start = index+19\n",
    "    #print(html_page[start:])\n",
    "    end = html_page.index('isAnonymous') - 12\n",
    "    AFToken = html_page[start:end]\n",
    "    print(AFToken)\n",
    "\n",
    "    payload = {\n",
    "        'action': 'login',\n",
    "        'username': os.environ.get(\"KAGGLE_USERNAME\"),\n",
    "        'password': os.environ.get(\"KAGGLE_PASSWORD\"),\n",
    "        '__RequestVerificationToken': AFToken\n",
    "    }\n",
    "\n",
    "    login_result = c.post(login_url, data=payload)\n",
    "    print(\"Status code is {}\".format(login_result.status_code))\n",
    "    response = c.get(training_data_url)\n",
    "    trainingData = response.text\n",
    "\n",
    "print(type(trainingData))\n",
    "\n",
    "    \n",
    "    \n"
   ]
  },
  {
   "cell_type": "code",
   "execution_count": 46,
   "metadata": {},
   "outputs": [],
   "source": [
    "import requests\n",
    "from requests import session\n",
    "\n",
    "def extract_data(url, file_path):\n",
    "\n",
    "    login_url = \"https://www.kaggle.com/account/login\"\n",
    "\n",
    "    with session() as c:\n",
    "        # We need to first get the login page and scrape off the anti-forgery token\n",
    "        html_page = c.get(login_url).text\n",
    "        index = html_page.index('antiForgeryToken')\n",
    "        start = index+19\n",
    "        end = html_page.index('isAnonymous') - 12\n",
    "        AFToken = html_page[start:end]\n",
    "        #print(AFToken)\n",
    "\n",
    "        payload = {\n",
    "            'action': 'login',\n",
    "            'username': os.environ.get(\"KAGGLE_USERNAME\"),\n",
    "            'password': os.environ.get(\"KAGGLE_PASSWORD\"),\n",
    "            '__RequestVerificationToken': AFToken\n",
    "        }\n",
    "\n",
    "        login_result = c.post(login_url, data=payload)\n",
    "        #print(\"Status code is {}\".format(login_result.status_code))\n",
    "        if (login_result.status_code != 200):\n",
    "            raise Exception(\"Login result is {}\".format(login_result.status_code))\n",
    "        \n",
    "        with open(file_path, \"w\") as f:\n",
    "            response = c.get(url, stream=True)\n",
    "            for block in response.iter_content(chunk_size=10000, decode_unicode=True):\n",
    "                f.write(block)\n",
    "                \n",
    "        print(\"Downloaded {} to {}\".format(url, file_path))"
   ]
  },
  {
   "cell_type": "code",
   "execution_count": 48,
   "metadata": {},
   "outputs": [
    {
     "name": "stdout",
     "output_type": "stream",
     "text": [
      "Downloaded https://www.kaggle.com/c/titanic/download/train.csv to ../data/raw/train.csv\n",
      "Downloaded https://www.kaggle.com/c/titanic/download/test.csv to ../data/raw/test.csv\n"
     ]
    }
   ],
   "source": [
    "\n",
    "train_url = \"https://www.kaggle.com/c/titanic/download/train.csv\"\n",
    "test_url = \"https://www.kaggle.com/c/titanic/download/test.csv\"\n",
    "\n",
    "raw_data_path = os.path.join(os.path.pardir, \"data\", \"raw\")\n",
    "train_data_path = os.path.join(raw_data_path, \"train.csv\")\n",
    "test_data_path = os.path.join(raw_data_path, \"test.csv\")\n",
    "\n",
    "extract_data(train_url, train_data_path)\n",
    "extract_data(test_url, test_data_path)"
   ]
  },
  {
   "cell_type": "code",
   "execution_count": 52,
   "metadata": {},
   "outputs": [],
   "source": [
    "get_raw_data_script_file = os.path.join(os.path.pardir, \"src\", \"data\", \"get_raw_data.py\")"
   ]
  },
  {
   "cell_type": "code",
   "execution_count": 53,
   "metadata": {},
   "outputs": [
    {
     "data": {
      "text/plain": [
       "'../src/data/get_raw_data.py'"
      ]
     },
     "execution_count": 53,
     "metadata": {},
     "output_type": "execute_result"
    }
   ],
   "source": [
    "get_raw_data_script_file\n"
   ]
  },
  {
   "cell_type": "code",
   "execution_count": 58,
   "metadata": {},
   "outputs": [
    {
     "name": "stdout",
     "output_type": "stream",
     "text": [
      "Overwriting ../src/data/get_raw_data.py\n"
     ]
    }
   ],
   "source": [
    "%%writefile $get_raw_data_script_file\n",
    "import os\n",
    "from dotenv import load_dotenv, find_dotenv\n",
    "import logging\n",
    "import requests\n",
    "from requests import session\n",
    "\n",
    "def extract_data(url, file_path):\n",
    "    \"\"\"\n",
    "    Extract data from the kaggle website\n",
    "    \"\"\"\n",
    "    login_url = \"https://www.kaggle.com/account/login\"\n",
    "\n",
    "    with session() as c:\n",
    "        # We need to first get the login page and scrape off the anti-forgery token\n",
    "        html_page = c.get(login_url).text\n",
    "        index = html_page.index('antiForgeryToken')\n",
    "        start = index+19\n",
    "        end = html_page.index('isAnonymous') - 12\n",
    "        AFToken = html_page[start:end]\n",
    "        #print(AFToken)\n",
    "\n",
    "        payload = {\n",
    "            'action': 'login',\n",
    "            'username': os.environ.get(\"KAGGLE_USERNAME\"),\n",
    "            'password': os.environ.get(\"KAGGLE_PASSWORD\"),\n",
    "            '__RequestVerificationToken': AFToken\n",
    "        }\n",
    "\n",
    "        login_result = c.post(login_url, data=payload)\n",
    "        #print(\"Status code is {}\".format(login_result.status_code))\n",
    "        if (login_result.status_code != 200):\n",
    "            raise Exception(\"Login result is {}\".format(login_result.status_code))\n",
    "        \n",
    "        with open(file_path, \"w\") as f:\n",
    "            response = c.get(url, stream=True)\n",
    "            for block in response.iter_content(chunk_size=10000, decode_unicode=True):\n",
    "                f.write(block)\n",
    "                        \n",
    "def main(project_path):\n",
    "    logger = logging.getLogger(__name__)\n",
    "    logger.info('Getting raw data')\n",
    "    \n",
    "    train_url = \"https://www.kaggle.com/c/titanic/download/train.csv\"\n",
    "    test_url = \"https://www.kaggle.com/c/titanic/download/test.csv\"\n",
    "\n",
    "    raw_data_path = os.path.join(project_path, \"data\", \"raw\")\n",
    "    train_data_path = os.path.join(raw_data_path, \"train.csv\")\n",
    "    test_data_path = os.path.join(raw_data_path, \"test.csv\")\n",
    "\n",
    "    extract_data(train_url, train_data_path)\n",
    "    extract_data(test_url, test_data_path)\n",
    "    \n",
    "    logger.info(\"Downloaded test and training data to {}\".format(raw_data_path))\n",
    "    \n",
    "if (__name__ == '__main__'):\n",
    "    project_dir = os.path.join(os.path.dirname(__file__), os.pardir, os.pardir)\n",
    "    print(project_dir)\n",
    "    \n",
    "    log_fmt = '%(asctime)s - %(name)s - %(levelname)s - %(message)s'\n",
    "    logging.basicConfig(level=logging.INFO, format=log_fmt)\n",
    "    # find .env automatically by walking up directories until it's found\n",
    "    dotenv_path = find_dotenv()\n",
    "    # load up the entries as environment variables\n",
    "    load_dotenv(dotenv_path)\n",
    "\n",
    "    main(project_dir)    \n",
    "    "
   ]
  },
  {
   "cell_type": "code",
   "execution_count": null,
   "metadata": {},
   "outputs": [],
   "source": []
  }
 ],
 "metadata": {
  "kernelspec": {
   "display_name": "Python 3",
   "language": "python",
   "name": "python3"
  },
  "language_info": {
   "codemirror_mode": {
    "name": "ipython",
    "version": 3
   },
   "file_extension": ".py",
   "mimetype": "text/x-python",
   "name": "python",
   "nbconvert_exporter": "python",
   "pygments_lexer": "ipython3",
   "version": "3.6.5"
  }
 },
 "nbformat": 4,
 "nbformat_minor": 2
}
